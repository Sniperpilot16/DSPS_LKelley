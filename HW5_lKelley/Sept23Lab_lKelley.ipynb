{
  "nbformat": 4,
  "nbformat_minor": 0,
  "metadata": {
    "colab": {
      "name": "Sept23Lab_lKelley.ipynb",
      "provenance": [],
      "collapsed_sections": [],
      "include_colab_link": true
    },
    "kernelspec": {
      "name": "python3",
      "display_name": "Python 3"
    }
  },
  "cells": [
    {
      "cell_type": "markdown",
      "metadata": {
        "id": "view-in-github",
        "colab_type": "text"
      },
      "source": [
        "<a href=\"https://colab.research.google.com/github/kelleyl54/DSPS_LKelley/blob/master/HW5_lKelley/Sept23Lab_lKelley.ipynb\" target=\"_parent\"><img src=\"https://colab.research.google.com/assets/colab-badge.svg\" alt=\"Open In Colab\"/></a>"
      ]
    },
    {
      "cell_type": "code",
      "metadata": {
        "id": "N95zFSUr1OMA",
        "colab_type": "code",
        "outputId": "706ab909-06be-413f-ca92-9434d06a99a0",
        "colab": {
          "base_uri": "https://localhost:8080/",
          "height": 124
        }
      },
      "source": [
        "from google.colab import drive\n",
        "drive.mount(\"/content/drive\")"
      ],
      "execution_count": 0,
      "outputs": [
        {
          "output_type": "stream",
          "text": [
            "Go to this URL in a browser: https://accounts.google.com/o/oauth2/auth?client_id=947318989803-6bn6qk8qdgf4n4g3pfee6491hc0brc4i.apps.googleusercontent.com&redirect_uri=urn%3Aietf%3Awg%3Aoauth%3A2.0%3Aoob&scope=email%20https%3A%2F%2Fwww.googleapis.com%2Fauth%2Fdocs.test%20https%3A%2F%2Fwww.googleapis.com%2Fauth%2Fdrive%20https%3A%2F%2Fwww.googleapis.com%2Fauth%2Fdrive.photos.readonly%20https%3A%2F%2Fwww.googleapis.com%2Fauth%2Fpeopleapi.readonly&response_type=code\n",
            "\n",
            "Enter your authorization code:\n",
            "··········\n",
            "Mounted at /content/drive\n"
          ],
          "name": "stdout"
        }
      ]
    },
    {
      "cell_type": "code",
      "metadata": {
        "id": "I5M1l6b93cr3",
        "colab_type": "code",
        "outputId": "8866b36d-1c73-44bb-df3b-2fcbad54fbe6",
        "colab": {
          "base_uri": "https://localhost:8080/",
          "height": 35
        }
      },
      "source": [
        "ls"
      ],
      "execution_count": 0,
      "outputs": [
        {
          "output_type": "stream",
          "text": [
            "\u001b[0m\u001b[01;34mdrive\u001b[0m/  \u001b[01;34msample_data\u001b[0m/\n"
          ],
          "name": "stdout"
        }
      ]
    },
    {
      "cell_type": "code",
      "metadata": {
        "id": "2RfsRjtQ3qcw",
        "colab_type": "code",
        "outputId": "a9fae9aa-476f-4043-fefe-4015552a9617",
        "colab": {
          "base_uri": "https://localhost:8080/",
          "height": 901
        }
      },
      "source": [
        "ls \"drive/My Drive\""
      ],
      "execution_count": 0,
      "outputs": [
        {
          "output_type": "stream",
          "text": [
            "'1 - Vectors.gdoc'\n",
            "'211 HW #1.gdoc'\n",
            "'313 Lab 1.gdoc'\n",
            "'313 Lab 2.gdoc'\n",
            "'313 Lab 4.gdoc'\n",
            "'313 Lab 5.gdoc'\n",
            "'349 Honors Project.gdoc'\n",
            "'BHAN Final.gdoc'\n",
            " blank.gdoc\n",
            "'Brother Co-curriculars.gform'\n",
            "\u001b[0m\u001b[01;34m'Colab Notebooks'\u001b[0m/\n",
            "'comp assign 2.gdoc'\n",
            "'Computer Assignment 1.gdoc'\n",
            "'Copy of Interest-Only Payment Calculator.gsheet'\n",
            "'Getting started.pdf'\n",
            "'Initiate Interviews.gsheet'\n",
            "'Kelley, Liam, Lab_2.gdoc'\n",
            "'Kelley, Liam, Lab_3.gdoc'\n",
            "'Kelley, Liam, Lab 4 Demonstration.gdoc'\n",
            "'Kelley, Liam, Lab_4.gdoc'\n",
            "'Kelley, Liam, Lab_5.gdoc'\n",
            " Lab01_Worksheet-Solution.gdoc\n",
            "'Lab 1.gdoc'\n",
            "'Lab 3.gdoc'\n",
            "'Lab 4&5.gdoc'\n",
            "'Lab 5.gdoc'\n",
            "'Lab 6 (1).gdoc'\n",
            "'Lab 6 (2).gdoc'\n",
            "'Lab 6.gdoc'\n",
            "'Lab 7.gdoc'\n",
            "'Lab 8.gdoc'\n",
            "'Lab 9 (1).gdoc'\n",
            "'Lab 9 data.gdoc'\n",
            "'Lab 9.gdoc'\n",
            "'Lab Report 2.gdoc'\n",
            "'Lab Report 3.gdoc'\n",
            "'Lab Report 4.gdoc'\n",
            "'Lab Report 5.gdoc'\n",
            "'Lab Report 6.gdoc'\n",
            "'Lab Report 7.gdoc'\n",
            "'Lab Report 8.gdoc'\n",
            "'Lab Schedule 2019W (1).gsheet'\n",
            "'Lab Schedule 2019W.gsheet'\n",
            "'Lab Schedule 2019W.xlsx'\n",
            "'Lamp Light.bmp'\n",
            "'Leadership Retreat.gdoc'\n",
            "'PHYS 208 - Lab Report 1 .gdoc'\n",
            "'Scholarship Plan PSP.docx'\n",
            " \u001b[01;34mtest_dir\u001b[0m/\n",
            "'the forbidden one.docx'\n",
            "'the forbidden one.docx.gdoc'\n"
          ],
          "name": "stdout"
        }
      ]
    },
    {
      "cell_type": "code",
      "metadata": {
        "id": "C4353-bC3tfa",
        "colab_type": "code",
        "outputId": "56869175-d353-469f-a313-2341ccdd1de3",
        "colab": {
          "base_uri": "https://localhost:8080/",
          "height": 901
        }
      },
      "source": [
        "ls \"drive/My Drive\""
      ],
      "execution_count": 0,
      "outputs": [
        {
          "output_type": "stream",
          "text": [
            "'1 - Vectors.gdoc'\n",
            "'211 HW #1.gdoc'\n",
            "'313 Lab 1.gdoc'\n",
            "'313 Lab 2.gdoc'\n",
            "'313 Lab 4.gdoc'\n",
            "'313 Lab 5.gdoc'\n",
            "'349 Honors Project.gdoc'\n",
            "'BHAN Final.gdoc'\n",
            " blank.gdoc\n",
            "'Brother Co-curriculars.gform'\n",
            "\u001b[0m\u001b[01;34m'Colab Notebooks'\u001b[0m/\n",
            "'comp assign 2.gdoc'\n",
            "'Computer Assignment 1.gdoc'\n",
            "'Copy of Interest-Only Payment Calculator.gsheet'\n",
            "'Getting started.pdf'\n",
            "'Initiate Interviews.gsheet'\n",
            "'Kelley, Liam, Lab_2.gdoc'\n",
            "'Kelley, Liam, Lab_3.gdoc'\n",
            "'Kelley, Liam, Lab 4 Demonstration.gdoc'\n",
            "'Kelley, Liam, Lab_4.gdoc'\n",
            "'Kelley, Liam, Lab_5.gdoc'\n",
            " Lab01_Worksheet-Solution.gdoc\n",
            "'Lab 1.gdoc'\n",
            "'Lab 3.gdoc'\n",
            "'Lab 4&5.gdoc'\n",
            "'Lab 5.gdoc'\n",
            "'Lab 6 (1).gdoc'\n",
            "'Lab 6 (2).gdoc'\n",
            "'Lab 6.gdoc'\n",
            "'Lab 7.gdoc'\n",
            "'Lab 8.gdoc'\n",
            "'Lab 9 (1).gdoc'\n",
            "'Lab 9 data.gdoc'\n",
            "'Lab 9.gdoc'\n",
            "'Lab Report 2.gdoc'\n",
            "'Lab Report 3.gdoc'\n",
            "'Lab Report 4.gdoc'\n",
            "'Lab Report 5.gdoc'\n",
            "'Lab Report 6.gdoc'\n",
            "'Lab Report 7.gdoc'\n",
            "'Lab Report 8.gdoc'\n",
            "'Lab Schedule 2019W (1).gsheet'\n",
            "'Lab Schedule 2019W.gsheet'\n",
            "'Lab Schedule 2019W.xlsx'\n",
            "'Lamp Light.bmp'\n",
            "'Leadership Retreat.gdoc'\n",
            "'PHYS 208 - Lab Report 1 .gdoc'\n",
            "'Scholarship Plan PSP.docx'\n",
            " \u001b[01;34mtest_dir\u001b[0m/\n",
            "'the forbidden one.docx'\n",
            "'the forbidden one.docx.gdoc'\n"
          ],
          "name": "stdout"
        }
      ]
    },
    {
      "cell_type": "code",
      "metadata": {
        "id": "ORPYH9pO4jkP",
        "colab_type": "code",
        "outputId": "b45e0a02-f1c2-45cc-d404-99538a367e35",
        "colab": {
          "base_uri": "https://localhost:8080/",
          "height": 35
        }
      },
      "source": [
        "mkdir \"drive/My Drive/test_dir\""
      ],
      "execution_count": 0,
      "outputs": [
        {
          "output_type": "stream",
          "text": [
            "mkdir: cannot create directory ‘drive/My Drive/test_dir’: File exists\n"
          ],
          "name": "stdout"
        }
      ]
    },
    {
      "cell_type": "code",
      "metadata": {
        "id": "M5teQQQ_4yN9",
        "colab_type": "code",
        "outputId": "bb69cb7a-4f5e-407d-dfe8-6bef56ab195c",
        "colab": {
          "base_uri": "https://localhost:8080/",
          "height": 901
        }
      },
      "source": [
        "ls \"drive/My Drive/\""
      ],
      "execution_count": 0,
      "outputs": [
        {
          "output_type": "stream",
          "text": [
            "'1 - Vectors.gdoc'\n",
            "'211 HW #1.gdoc'\n",
            "'313 Lab 1.gdoc'\n",
            "'313 Lab 2.gdoc'\n",
            "'313 Lab 4.gdoc'\n",
            "'313 Lab 5.gdoc'\n",
            "'349 Honors Project.gdoc'\n",
            "'BHAN Final.gdoc'\n",
            " blank.gdoc\n",
            "'Brother Co-curriculars.gform'\n",
            "\u001b[0m\u001b[01;34m'Colab Notebooks'\u001b[0m/\n",
            "'comp assign 2.gdoc'\n",
            "'Computer Assignment 1.gdoc'\n",
            "'Copy of Interest-Only Payment Calculator.gsheet'\n",
            "'Getting started.pdf'\n",
            "'Initiate Interviews.gsheet'\n",
            "'Kelley, Liam, Lab_2.gdoc'\n",
            "'Kelley, Liam, Lab_3.gdoc'\n",
            "'Kelley, Liam, Lab 4 Demonstration.gdoc'\n",
            "'Kelley, Liam, Lab_4.gdoc'\n",
            "'Kelley, Liam, Lab_5.gdoc'\n",
            " Lab01_Worksheet-Solution.gdoc\n",
            "'Lab 1.gdoc'\n",
            "'Lab 3.gdoc'\n",
            "'Lab 4&5.gdoc'\n",
            "'Lab 5.gdoc'\n",
            "'Lab 6 (1).gdoc'\n",
            "'Lab 6 (2).gdoc'\n",
            "'Lab 6.gdoc'\n",
            "'Lab 7.gdoc'\n",
            "'Lab 8.gdoc'\n",
            "'Lab 9 (1).gdoc'\n",
            "'Lab 9 data.gdoc'\n",
            "'Lab 9.gdoc'\n",
            "'Lab Report 2.gdoc'\n",
            "'Lab Report 3.gdoc'\n",
            "'Lab Report 4.gdoc'\n",
            "'Lab Report 5.gdoc'\n",
            "'Lab Report 6.gdoc'\n",
            "'Lab Report 7.gdoc'\n",
            "'Lab Report 8.gdoc'\n",
            "'Lab Schedule 2019W (1).gsheet'\n",
            "'Lab Schedule 2019W.gsheet'\n",
            "'Lab Schedule 2019W.xlsx'\n",
            "'Lamp Light.bmp'\n",
            "'Leadership Retreat.gdoc'\n",
            "'PHYS 208 - Lab Report 1 .gdoc'\n",
            "'Scholarship Plan PSP.docx'\n",
            " \u001b[01;34mtest_dir\u001b[0m/\n",
            "'the forbidden one.docx'\n",
            "'the forbidden one.docx.gdoc'\n"
          ],
          "name": "stdout"
        }
      ]
    },
    {
      "cell_type": "code",
      "metadata": {
        "id": "c6njtTM85GJD",
        "colab_type": "code",
        "outputId": "4e1ef2ee-fada-4eac-d917-b2682ed8965a",
        "colab": {
          "base_uri": "https://localhost:8080/",
          "height": 208
        }
      },
      "source": [
        "!wget https://www2.census.gov/programs-surveys/cbp/datasets/2016/zbp16totals.zip"
      ],
      "execution_count": 0,
      "outputs": [
        {
          "output_type": "stream",
          "text": [
            "--2019-09-25 20:29:55--  https://www2.census.gov/programs-surveys/cbp/datasets/2016/zbp16totals.zip\n",
            "Resolving www2.census.gov (www2.census.gov)... 23.35.204.114, 2600:1407:b800:18a::208c, 2600:1407:b800:198::208c\n",
            "Connecting to www2.census.gov (www2.census.gov)|23.35.204.114|:443... connected.\n",
            "HTTP request sent, awaiting response... 200 OK\n",
            "Length: unspecified [application/zip]\n",
            "Saving to: ‘zbp16totals.zip’\n",
            "\n",
            "zbp16totals.zip         [ <=>                ] 750.30K  4.74MB/s    in 0.2s    \n",
            "\n",
            "2019-09-25 20:29:55 (4.74 MB/s) - ‘zbp16totals.zip’ saved [768303]\n",
            "\n"
          ],
          "name": "stdout"
        }
      ]
    },
    {
      "cell_type": "code",
      "metadata": {
        "id": "GUHY-WAf7NSO",
        "colab_type": "code",
        "outputId": "48f82d83-3afe-4693-e3ee-bf4956f116a4",
        "colab": {
          "base_uri": "https://localhost:8080/",
          "height": 35
        }
      },
      "source": [
        "ls"
      ],
      "execution_count": 0,
      "outputs": [
        {
          "output_type": "stream",
          "text": [
            " \u001b[0m\u001b[01;34mdrive\u001b[0m/   \u001b[01;34msample_data\u001b[0m/   zbp16totals.zip  'zbp16totals.zip?'\n"
          ],
          "name": "stdout"
        }
      ]
    },
    {
      "cell_type": "code",
      "metadata": {
        "id": "eud3gTWEHJaF",
        "colab_type": "code",
        "outputId": "ed23e6f2-60fa-40b5-b312-9976b7d2f4d7",
        "colab": {
          "base_uri": "https://localhost:8080/",
          "height": 69
        }
      },
      "source": [
        "!unzip zbp16totals.zip -d \"drive/My Drive/test_dir\""
      ],
      "execution_count": 0,
      "outputs": [
        {
          "output_type": "stream",
          "text": [
            "Archive:  zbp16totals.zip\n",
            "replace drive/My Drive/test_dir/zbp16totals.txt? [y]es, [n]o, [A]ll, [N]one, [r]ename: y\n",
            "  inflating: drive/My Drive/test_dir/zbp16totals.txt  \n"
          ],
          "name": "stdout"
        }
      ]
    },
    {
      "cell_type": "code",
      "metadata": {
        "id": "qQVnNX-JHUMu",
        "colab_type": "code",
        "colab": {}
      },
      "source": [
        "import os"
      ],
      "execution_count": 0,
      "outputs": []
    },
    {
      "cell_type": "code",
      "metadata": {
        "id": "r77lM9OpHnHo",
        "colab_type": "code",
        "outputId": "dd668693-aa8a-4b70-e86d-611ec9f4220c",
        "colab": {
          "base_uri": "https://localhost:8080/",
          "height": 35
        }
      },
      "source": [
        "ls \"drive/My Drive/test_dir\""
      ],
      "execution_count": 0,
      "outputs": [
        {
          "output_type": "stream",
          "text": [
            "'Penn Race_1.avi'   zbp16totals.txt\n"
          ],
          "name": "stdout"
        }
      ]
    },
    {
      "cell_type": "code",
      "metadata": {
        "id": "fWZ9vQKAHxk4",
        "colab_type": "code",
        "outputId": "3733c943-f323-4f06-ca2f-a62643d62b34",
        "colab": {
          "base_uri": "https://localhost:8080/",
          "height": 35
        }
      },
      "source": [
        "cmd = \"rm -r drive/My Drive/test_dir\"\n",
        "os.system(cmd)"
      ],
      "execution_count": 0,
      "outputs": [
        {
          "output_type": "execute_result",
          "data": {
            "text/plain": [
              "256"
            ]
          },
          "metadata": {
            "tags": []
          },
          "execution_count": 17
        }
      ]
    },
    {
      "cell_type": "code",
      "metadata": {
        "id": "nESsSFn1H9o2",
        "colab_type": "code",
        "outputId": "33d572f5-32b0-454a-d591-dcb281f4e111",
        "colab": {
          "base_uri": "https://localhost:8080/",
          "height": 35
        }
      },
      "source": [
        "cmd = \"rm -r drive/My\\ Drive/test_dir\"\n",
        "os.system(cmd)"
      ],
      "execution_count": 0,
      "outputs": [
        {
          "output_type": "execute_result",
          "data": {
            "text/plain": [
              "0"
            ]
          },
          "metadata": {
            "tags": []
          },
          "execution_count": 18
        }
      ]
    },
    {
      "cell_type": "code",
      "metadata": {
        "id": "WPDj4CZYII2t",
        "colab_type": "code",
        "outputId": "6cff1c10-84f6-49b1-d9de-7ecd4bb6a9d5",
        "colab": {
          "base_uri": "https://localhost:8080/",
          "height": 131
        }
      },
      "source": [
        "os.system(wget https://www2.census.gov/programs-surveys/cbp/datasets/2016/zbp16detail.zip)"
      ],
      "execution_count": 0,
      "outputs": [
        {
          "output_type": "error",
          "ename": "SyntaxError",
          "evalue": "ignored",
          "traceback": [
            "\u001b[0;36m  File \u001b[0;32m\"<ipython-input-20-2cf3e279dc47>\"\u001b[0;36m, line \u001b[0;32m1\u001b[0m\n\u001b[0;31m    os.system(wget https://www2.census.gov/programs-surveys/cbp/datasets/2016/zbp16detail.zip)\u001b[0m\n\u001b[0m                       ^\u001b[0m\n\u001b[0;31mSyntaxError\u001b[0m\u001b[0;31m:\u001b[0m invalid syntax\n"
          ]
        }
      ]
    },
    {
      "cell_type": "code",
      "metadata": {
        "id": "uLhN155iKHIy",
        "colab_type": "code",
        "colab": {}
      },
      "source": [
        "import glob"
      ],
      "execution_count": 0,
      "outputs": []
    },
    {
      "cell_type": "code",
      "metadata": {
        "id": "GPwZZI9gJL9a",
        "colab_type": "code",
        "outputId": "45c0290d-c46b-468b-ae38-ec739e2760d6",
        "colab": {
          "base_uri": "https://localhost:8080/",
          "height": 468
        }
      },
      "source": [
        "path = \"drive/My Drive/dsps2019\"\n",
        "\n",
        "if len(glob.glob(path))==0:\n",
        "  res = os.system(\"mkdir \" + path.replace(\" \",\"// \"))\n",
        "if not res == 0:\n",
        "  print (\"cannot create a directory\")\n",
        "  \n",
        "for ii in range(10,15):\n",
        "  \n",
        "  snum = str(ii)\n",
        "  \n",
        "  #making the form for the three commands in advance saves me typing later\n",
        "  cmd_wget = \"wget https://www2.census.gov/programs-surveys/cbp/datasets/\" +\\\n",
        "  \"20{0}/zbp{0}detail.zip\".format(ii)\n",
        "  \n",
        "  cmd_unzip = \"unzip {} -d {}\".format(cmd_wget.split(\"/\")[-1], path.replace(\" \",\"\\\\ \"))\n",
        "  print(cmd_unzip)\n",
        "  \n",
        "  cmd_rm = \"rm {} \".format(\"zbp{0}detail.zip\".format(ii))\n",
        "  print(cmd_rm)\n",
        "  \n",
        "  print(\"downloading year 20{}\".format(snum))\n",
        "  \n",
        "  #here is where we start running the commands\n",
        "  res = os.system(cmd_wget)\n",
        "  if res != 0:\n",
        "    print(\"error: \", res, \"with downloading\", ii)\n",
        "  \n",
        "  print(\"moving file and unzipping file from year 20{}\".format(snum))\n",
        "  \n",
        "  res = os.system(cmd_unzip)\n",
        "  if res != 0:\n",
        "    print(\"error: \", res, \"with unzipping\", ii)\n",
        "    \n",
        "  print(\"removing zip file from year 20{}\".format(snum))\n",
        "  \n",
        "  res = os.system(cmd_rm)\n",
        "  if res != 0:\n",
        "    print(\"error: \", res, \"with removing\", ii)"
      ],
      "execution_count": 0,
      "outputs": [
        {
          "output_type": "stream",
          "text": [
            "cannot create a directory\n",
            "unzip zbp10detail.zip -d drive/My\\ Drive/dsps2019\n",
            "rm zbp10detail.zip \n",
            "downloading year 2010\n",
            "moving file and unzipping file from year 2010\n",
            "removing zip file from year 2010\n",
            "unzip zbp11detail.zip -d drive/My\\ Drive/dsps2019\n",
            "rm zbp11detail.zip \n",
            "downloading year 2011\n",
            "moving file and unzipping file from year 2011\n",
            "removing zip file from year 2011\n",
            "unzip zbp12detail.zip -d drive/My\\ Drive/dsps2019\n",
            "rm zbp12detail.zip \n",
            "downloading year 2012\n",
            "moving file and unzipping file from year 2012\n",
            "removing zip file from year 2012\n",
            "unzip zbp13detail.zip -d drive/My\\ Drive/dsps2019\n",
            "rm zbp13detail.zip \n",
            "downloading year 2013\n",
            "moving file and unzipping file from year 2013\n",
            "removing zip file from year 2013\n",
            "unzip zbp14detail.zip -d drive/My\\ Drive/dsps2019\n",
            "rm zbp14detail.zip \n",
            "downloading year 2014\n",
            "moving file and unzipping file from year 2014\n",
            "removing zip file from year 2014\n"
          ],
          "name": "stdout"
        }
      ]
    },
    {
      "cell_type": "code",
      "metadata": {
        "id": "H3QmdRElJzOn",
        "colab_type": "code",
        "outputId": "c31d65fc-eac7-4e27-ab75-0cf4cffa5f3d",
        "colab": {
          "base_uri": "https://localhost:8080/",
          "height": 52
        }
      },
      "source": [
        "ls \"drive/My Drive/dsps2019\""
      ],
      "execution_count": 0,
      "outputs": [
        {
          "output_type": "stream",
          "text": [
            "zbp10detail.txt  zbp12detail.txt  zbp14detail.txt\n",
            "zbp11detail.txt  zbp13detail.txt\n"
          ],
          "name": "stdout"
        }
      ]
    },
    {
      "cell_type": "markdown",
      "metadata": {
        "id": "TlZ5bU_JrFu1",
        "colab_type": "text"
      },
      "source": [
        "Proof that the 5 text files have been accurately added to the folder in my drive"
      ]
    },
    {
      "cell_type": "code",
      "metadata": {
        "id": "-5Hqs3EKESrH",
        "colab_type": "code",
        "colab": {}
      },
      "source": [
        ""
      ],
      "execution_count": 0,
      "outputs": []
    }
  ]
}