{
  "nbformat": 4,
  "nbformat_minor": 0,
  "metadata": {
    "colab": {
      "name": "DSPS_HW8_lKelley.ipynb",
      "provenance": [],
      "collapsed_sections": [],
      "include_colab_link": true
    },
    "kernelspec": {
      "name": "python3",
      "display_name": "Python 3"
    }
  },
  "cells": [
    {
      "cell_type": "markdown",
      "metadata": {
        "id": "view-in-github",
        "colab_type": "text"
      },
      "source": [
        "<a href=\"https://colab.research.google.com/github/kelleyl54/DSPS_LKelley/blob/master/HW8_lKelley/DSPS_HW8_lKelley.ipynb\" target=\"_parent\"><img src=\"https://colab.research.google.com/assets/colab-badge.svg\" alt=\"Open In Colab\"/></a>"
      ]
    },
    {
      "cell_type": "code",
      "metadata": {
        "id": "NfaYwYAcUGpz",
        "colab_type": "code",
        "colab": {}
      },
      "source": [
        "import pandas as pd\n",
        "import numpy as np\n",
        "import matplotlib.pyplot as pl"
      ],
      "execution_count": 0,
      "outputs": []
    },
    {
      "cell_type": "code",
      "metadata": {
        "id": "UiN9vMSiUnbO",
        "colab_type": "code",
        "colab": {
          "base_uri": "https://localhost:8080/",
          "height": 124
        },
        "outputId": "7bebff1e-3c48-42a9-b119-5104b2402c03"
      },
      "source": [
        "from google.colab import drive\n",
        "drive.mount(\"/content/drive\")"
      ],
      "execution_count": 2,
      "outputs": [
        {
          "output_type": "stream",
          "text": [
            "Go to this URL in a browser: https://accounts.google.com/o/oauth2/auth?client_id=947318989803-6bn6qk8qdgf4n4g3pfee6491hc0brc4i.apps.googleusercontent.com&redirect_uri=urn%3Aietf%3Awg%3Aoauth%3A2.0%3Aoob&scope=email%20https%3A%2F%2Fwww.googleapis.com%2Fauth%2Fdocs.test%20https%3A%2F%2Fwww.googleapis.com%2Fauth%2Fdrive%20https%3A%2F%2Fwww.googleapis.com%2Fauth%2Fdrive.photos.readonly%20https%3A%2F%2Fwww.googleapis.com%2Fauth%2Fpeopleapi.readonly&response_type=code\n",
            "\n",
            "Enter your authorization code:\n",
            "··········\n",
            "Mounted at /content/drive\n"
          ],
          "name": "stdout"
        }
      ]
    },
    {
      "cell_type": "code",
      "metadata": {
        "id": "7KyxGrP5U73D",
        "colab_type": "code",
        "colab": {
          "base_uri": "https://localhost:8080/",
          "height": 69
        },
        "outputId": "bb7de208-3865-44aa-8832-52f946049499"
      },
      "source": [
        "ls \"drive/My Drive/dsps2019/data\""
      ],
      "execution_count": 5,
      "outputs": [
        {
          "output_type": "stream",
          "text": [
            " jla_lcparams.txt\n",
            " nfl-competition-data.zip\n",
            "':persistentId?persistentId=doi:10.7910%2FDVN%2F9QKJU2%2FWOMIZQ'\n"
          ],
          "name": "stdout"
        }
      ]
    },
    {
      "cell_type": "code",
      "metadata": {
        "id": "D45ukcgcVBBg",
        "colab_type": "code",
        "colab": {
          "base_uri": "https://localhost:8080/",
          "height": 35
        },
        "outputId": "0b4b3e2a-7b1e-4a80-f3c3-bf8c11f3fd32"
      },
      "source": [
        "ls"
      ],
      "execution_count": 11,
      "outputs": [
        {
          "output_type": "stream",
          "text": [
            "\u001b[0m\u001b[01;34mdrive\u001b[0m/  nflcom_punts.csv  nflcom_scrims.csv  roledscrps.csv  \u001b[01;34msample_data\u001b[0m/\n"
          ],
          "name": "stdout"
        }
      ]
    },
    {
      "cell_type": "code",
      "metadata": {
        "id": "uxKtKqHYVK6o",
        "colab_type": "code",
        "colab": {}
      },
      "source": [
        "!mv nflcom_scrims.csv \"drive/My Drive/dsps2019/data\""
      ],
      "execution_count": 0,
      "outputs": []
    },
    {
      "cell_type": "code",
      "metadata": {
        "id": "-AsfM4SCWItU",
        "colab_type": "code",
        "colab": {}
      },
      "source": [
        "!mv nflcom_punts.csv \"drive/My Drive/dsps2019/data\""
      ],
      "execution_count": 0,
      "outputs": []
    },
    {
      "cell_type": "code",
      "metadata": {
        "id": "t1JkJy7ZWOYr",
        "colab_type": "code",
        "colab": {}
      },
      "source": [
        "!mv roledscrps.csv \"drive/My Drive/dsps2019/data\""
      ],
      "execution_count": 0,
      "outputs": []
    },
    {
      "cell_type": "code",
      "metadata": {
        "id": "BzZk5qkKWUfn",
        "colab_type": "code",
        "colab": {
          "base_uri": "https://localhost:8080/",
          "height": 35
        },
        "outputId": "0ccc4a5e-d0dd-430d-e5a9-6329b9d6ceaf"
      },
      "source": [
        "ls"
      ],
      "execution_count": 16,
      "outputs": [
        {
          "output_type": "stream",
          "text": [
            "\u001b[0m\u001b[01;34mdrive\u001b[0m/  \u001b[01;34msample_data\u001b[0m/\n"
          ],
          "name": "stdout"
        }
      ]
    },
    {
      "cell_type": "code",
      "metadata": {
        "id": "OS7SIgipUMPB",
        "colab_type": "code",
        "colab": {}
      },
      "source": [
        "NFLdata = pd.read_csv(\"drive/My Drive/dsps2019/data/nflcom_scrims.csv\")"
      ],
      "execution_count": 0,
      "outputs": []
    },
    {
      "cell_type": "code",
      "metadata": {
        "id": "v4BztsaNUSw_",
        "colab_type": "code",
        "colab": {
          "base_uri": "https://localhost:8080/",
          "height": 306
        },
        "outputId": "272c4ce7-9a5f-4857-d15f-18597c2b35c2"
      },
      "source": [
        "NFLdata.head()"
      ],
      "execution_count": 18,
      "outputs": [
        {
          "output_type": "execute_result",
          "data": {
            "text/html": [
              "<div>\n",
              "<style scoped>\n",
              "    .dataframe tbody tr th:only-of-type {\n",
              "        vertical-align: middle;\n",
              "    }\n",
              "\n",
              "    .dataframe tbody tr th {\n",
              "        vertical-align: top;\n",
              "    }\n",
              "\n",
              "    .dataframe thead th {\n",
              "        text-align: right;\n",
              "    }\n",
              "</style>\n",
              "<table border=\"1\" class=\"dataframe\">\n",
              "  <thead>\n",
              "    <tr style=\"text-align: right;\">\n",
              "      <th></th>\n",
              "      <th>Year</th>\n",
              "      <th>Season</th>\n",
              "      <th>Rk</th>\n",
              "      <th>Team</th>\n",
              "      <th>G</th>\n",
              "      <th>Pts/G</th>\n",
              "      <th>TotPts</th>\n",
              "      <th>Scrm Plys</th>\n",
              "      <th>Yds/G</th>\n",
              "      <th>Yds/P</th>\n",
              "      <th>1st/G</th>\n",
              "      <th>3rd Md</th>\n",
              "      <th>3rd Att</th>\n",
              "      <th>3rd Pct</th>\n",
              "      <th>4th Md</th>\n",
              "      <th>4th Att</th>\n",
              "      <th>4th Pct</th>\n",
              "      <th>Pen</th>\n",
              "      <th>Pen Yds</th>\n",
              "      <th>ToP/G</th>\n",
              "      <th>FUM</th>\n",
              "      <th>Lost</th>\n",
              "      <th>TO</th>\n",
              "    </tr>\n",
              "  </thead>\n",
              "  <tbody>\n",
              "    <tr>\n",
              "      <th>0</th>\n",
              "      <td>2017</td>\n",
              "      <td>Reg</td>\n",
              "      <td>1</td>\n",
              "      <td>Jacksonville Jaguars</td>\n",
              "      <td>16</td>\n",
              "      <td>26.1</td>\n",
              "      <td>417</td>\n",
              "      <td>1078</td>\n",
              "      <td>365.9</td>\n",
              "      <td>5.4</td>\n",
              "      <td>20.8</td>\n",
              "      <td>85</td>\n",
              "      <td>227</td>\n",
              "      <td>37</td>\n",
              "      <td>10</td>\n",
              "      <td>13</td>\n",
              "      <td>77</td>\n",
              "      <td>112</td>\n",
              "      <td>936</td>\n",
              "      <td>32:19:00</td>\n",
              "      <td>24</td>\n",
              "      <td>10</td>\n",
              "      <td>10</td>\n",
              "    </tr>\n",
              "    <tr>\n",
              "      <th>1</th>\n",
              "      <td>2017</td>\n",
              "      <td>Reg</td>\n",
              "      <td>2</td>\n",
              "      <td>Denver Broncos</td>\n",
              "      <td>16</td>\n",
              "      <td>18.1</td>\n",
              "      <td>289</td>\n",
              "      <td>1075</td>\n",
              "      <td>324.1</td>\n",
              "      <td>4.8</td>\n",
              "      <td>18.6</td>\n",
              "      <td>94</td>\n",
              "      <td>241</td>\n",
              "      <td>39</td>\n",
              "      <td>7</td>\n",
              "      <td>20</td>\n",
              "      <td>35</td>\n",
              "      <td>113</td>\n",
              "      <td>885</td>\n",
              "      <td>31:28:00</td>\n",
              "      <td>26</td>\n",
              "      <td>12</td>\n",
              "      <td>-17</td>\n",
              "    </tr>\n",
              "    <tr>\n",
              "      <th>2</th>\n",
              "      <td>2017</td>\n",
              "      <td>Reg</td>\n",
              "      <td>3</td>\n",
              "      <td>Philadelphia Eagles</td>\n",
              "      <td>16</td>\n",
              "      <td>28.6</td>\n",
              "      <td>457</td>\n",
              "      <td>1073</td>\n",
              "      <td>365.8</td>\n",
              "      <td>5.5</td>\n",
              "      <td>21.1</td>\n",
              "      <td>96</td>\n",
              "      <td>230</td>\n",
              "      <td>42</td>\n",
              "      <td>17</td>\n",
              "      <td>26</td>\n",
              "      <td>65</td>\n",
              "      <td>116</td>\n",
              "      <td>962</td>\n",
              "      <td>32:41:00</td>\n",
              "      <td>25</td>\n",
              "      <td>11</td>\n",
              "      <td>11</td>\n",
              "    </tr>\n",
              "    <tr>\n",
              "      <th>3</th>\n",
              "      <td>2017</td>\n",
              "      <td>Reg</td>\n",
              "      <td>4</td>\n",
              "      <td>New England Patriots</td>\n",
              "      <td>16</td>\n",
              "      <td>28.6</td>\n",
              "      <td>458</td>\n",
              "      <td>1070</td>\n",
              "      <td>394.2</td>\n",
              "      <td>5.9</td>\n",
              "      <td>24.3</td>\n",
              "      <td>82</td>\n",
              "      <td>202</td>\n",
              "      <td>41</td>\n",
              "      <td>8</td>\n",
              "      <td>13</td>\n",
              "      <td>62</td>\n",
              "      <td>95</td>\n",
              "      <td>835</td>\n",
              "      <td>30:37:00</td>\n",
              "      <td>13</td>\n",
              "      <td>4</td>\n",
              "      <td>6</td>\n",
              "    </tr>\n",
              "    <tr>\n",
              "      <th>4</th>\n",
              "      <td>2017</td>\n",
              "      <td>Reg</td>\n",
              "      <td>5</td>\n",
              "      <td>Arizona Cardinals</td>\n",
              "      <td>16</td>\n",
              "      <td>18.4</td>\n",
              "      <td>295</td>\n",
              "      <td>1059</td>\n",
              "      <td>314.1</td>\n",
              "      <td>4.7</td>\n",
              "      <td>19.4</td>\n",
              "      <td>82</td>\n",
              "      <td>233</td>\n",
              "      <td>35</td>\n",
              "      <td>7</td>\n",
              "      <td>16</td>\n",
              "      <td>44</td>\n",
              "      <td>110</td>\n",
              "      <td>880</td>\n",
              "      <td>31:10:00</td>\n",
              "      <td>19</td>\n",
              "      <td>7</td>\n",
              "      <td>-4</td>\n",
              "    </tr>\n",
              "  </tbody>\n",
              "</table>\n",
              "</div>"
            ],
            "text/plain": [
              "   Year Season  Rk                  Team   G  ...  Pen Yds     ToP/G  FUM  Lost  TO\n",
              "0  2017    Reg   1  Jacksonville Jaguars  16  ...      936  32:19:00   24    10  10\n",
              "1  2017    Reg   2        Denver Broncos  16  ...      885  31:28:00   26    12 -17\n",
              "2  2017    Reg   3   Philadelphia Eagles  16  ...      962  32:41:00   25    11  11\n",
              "3  2017    Reg   4  New England Patriots  16  ...      835  30:37:00   13     4   6\n",
              "4  2017    Reg   5     Arizona Cardinals  16  ...      880  31:10:00   19     7  -4\n",
              "\n",
              "[5 rows x 23 columns]"
            ]
          },
          "metadata": {
            "tags": []
          },
          "execution_count": 18
        }
      ]
    },
    {
      "cell_type": "code",
      "metadata": {
        "id": "4W6UxA5EWdzE",
        "colab_type": "code",
        "colab": {
          "base_uri": "https://localhost:8080/",
          "height": 35
        },
        "outputId": "a0ebc6ec-d3d4-466e-fc09-aced3451c0bb"
      },
      "source": [
        "NFLdata.shape"
      ],
      "execution_count": 19,
      "outputs": [
        {
          "output_type": "execute_result",
          "data": {
            "text/plain": [
              "(128, 23)"
            ]
          },
          "metadata": {
            "tags": []
          },
          "execution_count": 19
        }
      ]
    },
    {
      "cell_type": "code",
      "metadata": {
        "id": "8z0r03prWf6o",
        "colab_type": "code",
        "colab": {}
      },
      "source": [
        "RegSeason = NFLdata[NFLdata.Season == 'Reg']"
      ],
      "execution_count": 0,
      "outputs": []
    },
    {
      "cell_type": "code",
      "metadata": {
        "id": "DI473zuY9qVW",
        "colab_type": "code",
        "colab": {
          "base_uri": "https://localhost:8080/",
          "height": 35
        },
        "outputId": "6498c0db-f4f8-4759-8f66-7c7cf13561d9"
      },
      "source": [
        "pointsAvgVal = RegSeason[\"Pts/G\"].mean()\n",
        "pointsAvgVal"
      ],
      "execution_count": 18,
      "outputs": [
        {
          "output_type": "execute_result",
          "data": {
            "text/plain": [
              "22.245312500000004"
            ]
          },
          "metadata": {
            "tags": []
          },
          "execution_count": 18
        }
      ]
    },
    {
      "cell_type": "code",
      "metadata": {
        "id": "Zt_rv9lt9yOK",
        "colab_type": "code",
        "colab": {
          "base_uri": "https://localhost:8080/",
          "height": 35
        },
        "outputId": "7eaa4409-3c96-43fd-a33c-33fa91e1c10c"
      },
      "source": [
        "yardsAvgVal = RegSeason[\"Yds/G\"].mean()\n",
        "yardsAvgVal"
      ],
      "execution_count": 20,
      "outputs": [
        {
          "output_type": "execute_result",
          "data": {
            "text/plain": [
              "342.23281249999997"
            ]
          },
          "metadata": {
            "tags": []
          },
          "execution_count": 20
        }
      ]
    },
    {
      "cell_type": "code",
      "metadata": {
        "id": "lgseyaCc-Br4",
        "colab_type": "code",
        "colab": {}
      },
      "source": [
        "testArray = np.arange(0, 600, 1)\n",
        "yardsArray = np.full(( 600), yardsAvgVal)\n",
        "pointsArray = np.full((600), pointsAvgVal)"
      ],
      "execution_count": 0,
      "outputs": []
    },
    {
      "cell_type": "code",
      "metadata": {
        "id": "03vT4R8s-bnt",
        "colab_type": "code",
        "colab": {}
      },
      "source": [
        ""
      ],
      "execution_count": 0,
      "outputs": []
    },
    {
      "cell_type": "code",
      "metadata": {
        "id": "0fA9_YoToB1T",
        "colab_type": "code",
        "colab": {
          "base_uri": "https://localhost:8080/",
          "height": 35
        },
        "outputId": "0aac52f3-1ad5-4880-ec15-4b68a765a843"
      },
      "source": [
        "RegSeason.shape"
      ],
      "execution_count": 22,
      "outputs": [
        {
          "output_type": "execute_result",
          "data": {
            "text/plain": [
              "(64, 23)"
            ]
          },
          "metadata": {
            "tags": []
          },
          "execution_count": 22
        }
      ]
    },
    {
      "cell_type": "code",
      "metadata": {
        "id": "BOjJrk14oHLK",
        "colab_type": "code",
        "colab": {}
      },
      "source": [
        "RegSeason17 = RegSeason[RegSeason.Year == 2017]\n",
        "RegSeason16 = RegSeason[RegSeason.Year == 2016]"
      ],
      "execution_count": 0,
      "outputs": []
    },
    {
      "cell_type": "code",
      "metadata": {
        "id": "Wh8uuB82oODR",
        "colab_type": "code",
        "colab": {
          "base_uri": "https://localhost:8080/",
          "height": 283
        },
        "outputId": "551d4bcb-f71a-4047-f606-02d39e133241"
      },
      "source": [
        "pl.plot(RegSeason[\"Pts/G\"],RegSeason.TotPts, '.')\n",
        "pl.legend(RegSeason.Team)"
      ],
      "execution_count": 27,
      "outputs": [
        {
          "output_type": "execute_result",
          "data": {
            "text/plain": [
              "<matplotlib.legend.Legend at 0x7fc229e502e8>"
            ]
          },
          "metadata": {
            "tags": []
          },
          "execution_count": 27
        },
        {
          "output_type": "display_data",
          "data": {
            "image/png": "[encoded data removed]",
            "text/plain": [
              "<Figure size 432x288 with 1 Axes>"
            ]
          },
          "metadata": {
            "tags": []
          }
        }
      ]
    },
    {
      "cell_type": "code",
      "metadata": {
        "id": "6Tz6d4z5ou4R",
        "colab_type": "code",
        "colab": {
          "base_uri": "https://localhost:8080/",
          "height": 630
        },
        "outputId": "2a3a5229-3c6c-4783-b549-af2ebe2c3cae"
      },
      "source": [
        "pl.figure(figsize = (10,10))\n",
        "pl.plot(RegSeason16[\"Yds/G\"], RegSeason16[\"Pts/G\"], 'o')\n",
        "pl.plot(RegSeason17[\"Yds/G\"], RegSeason17[\"Pts/G\"], 'o')\n",
        "pl.plot(yardsArray, testArray, 'k--')\n",
        "pl.plot(testArray, pointsArray, 'k-.')\n",
        "pl.legend(['2016 Teams', '2017 Teams', 'Two-Year League Average Yards/Game', \"Two-Year League Average Points/Game\"], loc = 'upper left',fontsize = 'large')\n",
        "pl.xlabel('Average Yards per Game', fontsize = 'x-large' )\n",
        "pl.ylabel('Average Points per Game', fontsize = 'x-large')\n",
        "pl.xticks(fontsize = 'large')\n",
        "pl.yticks(fontsize = 'large')\n",
        "pl.xlim(250, 430)\n",
        "pl.ylim(13, 34)\n",
        "pl.title(\"NFL Offenses in the 2016 and 2017 Seasons\", fontsize = 'x-large');"
      ],
      "execution_count": 36,
      "outputs": [
        {
          "output_type": "display_data",
          "data": {
            "image/png": "[encoded data removed]",
            "text/plain": [
              "<Figure size 720x720 with 1 Axes>"
            ]
          },
          "metadata": {
            "tags": []
          }
        }
      ]
    },
    {
      "cell_type": "code",
      "metadata": {
        "id": "WiNsAgL01LqV",
        "colab_type": "code",
        "colab": {}
      },
      "source": [
        ""
      ],
      "execution_count": 0,
      "outputs": []
    }
  ]
}