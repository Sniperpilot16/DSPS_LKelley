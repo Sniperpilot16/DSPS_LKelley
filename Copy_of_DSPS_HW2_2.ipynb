{
  "nbformat": 4,
  "nbformat_minor": 0,
  "metadata": {
    "anaconda-cloud": {},
    "kernelspec": {
      "display_name": "Python 3",
      "language": "python",
      "name": "python3"
    },
    "language_info": {
      "codemirror_mode": {
        "name": "ipython",
        "version": 3
      },
      "file_extension": ".py",
      "mimetype": "text/x-python",
      "name": "python",
      "nbconvert_exporter": "python",
      "pygments_lexer": "ipython3",
      "version": "3.7.3"
    },
    "latex_envs": {
      "LaTeX_envs_menu_present": true,
      "autoclose": false,
      "autocomplete": true,
      "bibliofile": "biblio.bib",
      "cite_by": "apalike",
      "current_citInitial": 1,
      "eqLabelWithNumbers": true,
      "eqNumInitial": 1,
      "hotkeys": {
        "equation": "Ctrl-E",
        "itemize": "Ctrl-I"
      },
      "labels_anchors": false,
      "latex_user_defs": false,
      "report_style_numbering": false,
      "user_envs_cfg": false
    },
    "nbTranslate": {
      "displayLangs": [
        "*"
      ],
      "hotkey": "alt-t",
      "langInMainMenu": true,
      "sourceLang": "en",
      "targetLang": "fr",
      "useGoogleTranslate": true
    },
    "toc": {
      "base_numbering": 1,
      "nav_menu": {},
      "number_sections": true,
      "sideBar": true,
      "skip_h1_title": false,
      "title_cell": "Table of Contents",
      "title_sidebar": "Contents",
      "toc_cell": false,
      "toc_position": {},
      "toc_section_display": true,
      "toc_window_display": false
    },
    "colab": {
      "name": "Copy of DSPS_HW2_2.ipynb",
      "version": "0.3.2",
      "provenance": [],
      "collapsed_sections": [],
      "include_colab_link": true
    }
  },
  "cells": [
    {
      "cell_type": "markdown",
      "metadata": {
        "id": "view-in-github",
        "colab_type": "text"
      },
      "source": [
        "<a href=\"https://colab.research.google.com/github/kelleyl54/DSPS_LKelley/blob/master/Copy_of_DSPS_HW2_2.ipynb\" target=\"_parent\"><img src=\"https://colab.research.google.com/assets/colab-badge.svg\" alt=\"Open In Colab\"/></a>"
      ]
    },
    {
      "cell_type": "markdown",
      "metadata": {
        "id": "htEmKh_wIzjg",
        "colab_type": "text"
      },
      "source": [
        " Written by Federica B. Bianco @fedhere\n",
        "UDel DSPS 2019\n",
        "\n",
        " # Homework 2\n",
        "\n",
        " This is a skeleton & instruction notebook\n",
        "\n",
        "-  GENERATE  100 samples of different sizes N (N>10 & N<2000) from each of 5 different distributions (500 samples in total), \n",
        " _all with the same population mean_. Include a _Normal_, a _Poisson_, a _Binomial_, a _Chi-Squared_ distribution, and 1 more of your choice.                                       \n",
        "-  For each sample plot the sample mean (dependent var.) against the sample size N (independent var.) (if you want you can do it with the sample standard deviation as well). \n",
        "-  Describe the behavior you see in the plots in terms of the law of large numbers.\n",
        "-  PLOT the distributions of all sample means (together for all distributions). _Mandatory_: as a histogram. _Optional_: in any other way you think is convincing\n",
        " Extra Credit: FIT a gaussian to the distribution of means            "
      ]
    },
    {
      "cell_type": "code",
      "metadata": {
        "ExecuteTime": {
          "end_time": "2019-09-04T18:40:29.989386Z",
          "start_time": "2019-09-04T18:40:29.957973Z"
        },
        "id": "gm4tXE2FIzjh",
        "colab_type": "code",
        "outputId": "491cbaa1-d2c7-4780-fce9-ffad4580a28d",
        "colab": {
          "base_uri": "https://localhost:8080/",
          "height": 35
        }
      },
      "source": [
        "from __future__ import print_function\n",
        "__author__= 'fbb'\n",
        "\n",
        "import pylab as pl\n",
        "# this package sets up pretty plots\n",
        "from scipy.optimize import curve_fit, minimize\n",
        "    \n",
        "%pylab inline\n",
        "import seaborn\n",
        "seaborn.set_style(\"darkgrid\")\n"
      ],
      "execution_count": 1,
      "outputs": [
        {
          "output_type": "stream",
          "text": [
            "Populating the interactive namespace from numpy and matplotlib\n"
          ],
          "name": "stdout"
        }
      ]
    },
    {
      "cell_type": "markdown",
      "metadata": {
        "id": "G2ESQn0hIzjn",
        "colab_type": "text"
      },
      "source": [
        "## choose which distributions to use "
      ]
    },
    {
      "cell_type": "code",
      "metadata": {
        "ExecuteTime": {
          "end_time": "2019-09-04T18:40:30.736028Z",
          "start_time": "2019-09-04T18:40:30.732670Z"
        },
        "id": "WsJ8f6s4Izjo",
        "colab_type": "code",
        "colab": {}
      },
      "source": [
        "#distributions = ['pois', 'gaus', 'chisq', 'cauchy', 'lnorm', 'binomial']\n",
        "distributions = ['chisq']\n"
      ],
      "execution_count": 0,
      "outputs": []
    },
    {
      "cell_type": "markdown",
      "metadata": {
        "collapsed": true,
        "id": "8OhMtCVUIzjr",
        "colab_type": "text"
      },
      "source": [
        "## and which mean to give it"
      ]
    },
    {
      "cell_type": "code",
      "metadata": {
        "ExecuteTime": {
          "end_time": "2019-09-04T18:40:33.116279Z",
          "start_time": "2019-09-04T18:40:33.111440Z"
        },
        "id": "YZf9jCIhIzjs",
        "colab_type": "code",
        "colab": {}
      },
      "source": [
        "mymean = 100"
      ],
      "execution_count": 0,
      "outputs": []
    },
    {
      "cell_type": "markdown",
      "metadata": {
        "id": "Tux4LD4ZIzju",
        "colab_type": "text"
      },
      "source": [
        "# Let's see what this distribution looks like, what is the PDF, and how are the moments defined. Wikipedia is great for this! \n",
        "\n",
        "![1](https://github.com/fedhere/DSPS/blob/master/HW2/chisq1.png?raw=1)\n",
        "\n",
        "![2](https://github.com/fedhere/DSPS/blob/master/HW2/chisq2.png?raw=1)"
      ]
    },
    {
      "cell_type": "markdown",
      "metadata": {
        "id": "GzvihwNGIzjv",
        "colab_type": "text"
      },
      "source": [
        "# Then lets look at the numpy random sampling package to see how I create the distribution\n",
        "http://docs.scipy.org/doc/numpy/reference/routines.random.html\n",
        "http://docs.scipy.org/doc/numpy/reference/generated/numpy.random.chisquare.html#numpy.random.chisquare\n",
        "\n"
      ]
    },
    {
      "cell_type": "code",
      "metadata": {
        "ExecuteTime": {
          "end_time": "2019-09-04T18:40:35.884219Z",
          "start_time": "2019-09-04T18:40:35.881628Z"
        },
        "id": "hgPK9r8jIzjw",
        "colab_type": "code",
        "colab": {}
      },
      "source": [
        "# the chi sq distribution takes the number of degrees of freedom, which luckily is the same as the mean!\n",
        "df = mymean"
      ],
      "execution_count": 0,
      "outputs": []
    },
    {
      "cell_type": "markdown",
      "metadata": {
        "id": "H_KPXfHbIzjz",
        "colab_type": "text"
      },
      "source": [
        "## I am making a dictionary to host the distributions.\n",
        "\n",
        "that is only one possible option. with a dictionary I can easily inspect the distribution I want by its name: it is a very human friendly data storage. In this example I am only using a single distribution, so for me it is overkill, but if I were doing the whole exercise with 5 or 6 distributions it would be useful!\n",
        "\n",
        "Lets start by looking at a single chi sq distribution"
      ]
    },
    {
      "cell_type": "code",
      "metadata": {
        "ExecuteTime": {
          "end_time": "2019-09-04T18:42:24.156799Z",
          "start_time": "2019-09-04T18:42:23.900473Z"
        },
        "id": "HUmCm7gOIzj0",
        "colab_type": "code",
        "outputId": "cd1668a8-b830-429d-fa2f-205bcc5f5992",
        "colab": {
          "base_uri": "https://localhost:8080/",
          "height": 283
        }
      },
      "source": [
        "# Note: I am adding imports here, to show the workflow: \n",
        "# at this point I realize what packages I need and I import them. \n",
        "# but this is a PEP8 violation. \n",
        "# It is a good habit to put the includes at the top \n",
        "# so the code fails right away if the packages are missing. \n",
        "# Otherwise a user may have a piece of code running for a long time, \n",
        "# and then fail when the package cannot be imported... \n",
        "# (unless they are only imported under conditions, e.g. in an if statement)\n",
        "\n",
        "import numpy as np\n",
        "np.random.seed(456)\n",
        "md = {}\n",
        "# md is an empty disctionary; \n",
        "# if you are not familiar with python dictionaries see https://www.pythonforbeginners.com/dictionary/how-to-use-dictionaries-in-python\n",
        "md['chisq'] = np.random.chisquare(mymean, size=100)\n",
        "# md now is a dictionary with one object: an array by the key 'chisq'\n",
        "pl.hist(md['chisq'], bins = 30)\n",
        "pl.ylabel('N')\n",
        "pl.xlabel('x');"
      ],
      "execution_count": 6,
      "outputs": [
        {
          "output_type": "display_data",
          "data": {
            "image/png": "[encoded data removed]",
            "text/plain": [
              "<Figure size 432x288 with 1 Axes>"
            ]
          },
          "metadata": {
            "tags": []
          }
        }
      ]
    },
    {
      "cell_type": "markdown",
      "metadata": {
        "id": "SAbJT1SjIzj4",
        "colab_type": "text"
      },
      "source": [
        "### Figure 1: Chi sq distribution of a sample of size 100 for a Chi square distribution with  100 degrees of freedom. "
      ]
    },
    {
      "cell_type": "markdown",
      "metadata": {
        "id": "IG8uLrjpIzj4",
        "colab_type": "text"
      },
      "source": [
        "## let numpy calculate what the mean and stdev of this distribution are"
      ]
    },
    {
      "cell_type": "code",
      "metadata": {
        "ExecuteTime": {
          "end_time": "2019-09-04T18:42:32.656167Z",
          "start_time": "2019-09-04T18:42:32.645619Z"
        },
        "id": "n2qoqR66Izj6",
        "colab_type": "code",
        "outputId": "46193aa8-76cb-4bb2-fe0b-b6f27eccfe5a",
        "colab": {
          "base_uri": "https://localhost:8080/",
          "height": 35
        }
      },
      "source": [
        "print (\"Chisq mean: %.2f, standard deviation: %.2f\"%(md['chisq'].mean(), md['chisq'].std()))"
      ],
      "execution_count": 7,
      "outputs": [
        {
          "output_type": "stream",
          "text": [
            "Chisq mean: 100.09, standard deviation: 13.24\n"
          ],
          "name": "stdout"
        }
      ]
    },
    {
      "cell_type": "markdown",
      "metadata": {
        "id": "EJsfl7UOIzj8",
        "colab_type": "text"
      },
      "source": [
        "## Now let's do it for 100 Chisq distributions\n",
        "we want distributions of different sizes (all integers between 10 and 2000). It's a good idea to create more small distributions, cause, as we will see, their means will be more noisy (due to the law of large numbers which we will discuss in class)"
      ]
    },
    {
      "cell_type": "code",
      "metadata": {
        "ExecuteTime": {
          "end_time": "2019-09-04T18:48:54.103615Z",
          "start_time": "2019-09-04T18:48:54.099189Z"
        },
        "id": "pq-5LRDgIzj9",
        "colab_type": "code",
        "outputId": "914b43b3-5bd2-456a-8b35-9f88bda3b24c",
        "colab": {
          "base_uri": "https://localhost:8080/",
          "height": 35
        }
      },
      "source": [
        "mysize = (2000 / (np.array(range(1, 100)))).astype(int)\n",
        "# mysize = 1000 / (np.array(range(1, 100) + [10]))\n",
        "# mysize = (np.random.rand(100) * 1000).astype(int)\n",
        "print (\"shape of the 'size' list that contains the size of each distribution\", mysize.shape)"
      ],
      "execution_count": 8,
      "outputs": [
        {
          "output_type": "stream",
          "text": [
            "shape of the 'size' list that contains the size of each distribution (99,)\n"
          ],
          "name": "stdout"
        }
      ]
    },
    {
      "cell_type": "code",
      "metadata": {
        "ExecuteTime": {
          "end_time": "2019-09-04T18:49:24.365207Z",
          "start_time": "2019-09-04T18:49:24.216832Z"
        },
        "id": "H1yhRE2BIzkA",
        "colab_type": "code",
        "outputId": "59b18629-1439-44bb-f951-ac7a62bc7706",
        "colab": {
          "base_uri": "https://localhost:8080/",
          "height": 301
        }
      },
      "source": [
        "pl.plot(mysize, '.')\n",
        "pl.xlabel(\"index\")\n",
        "pl.ylabel(\"size of the array\")"
      ],
      "execution_count": 9,
      "outputs": [
        {
          "output_type": "execute_result",
          "data": {
            "text/plain": [
              "Text(0, 0.5, 'size of the array')"
            ]
          },
          "metadata": {
            "tags": []
          },
          "execution_count": 9
        },
        {
          "output_type": "display_data",
          "data": {
            "image/png": "[encoded data removed]",
            "text/plain": [
              "<Figure size 432x288 with 1 Axes>"
            ]
          },
          "metadata": {
            "tags": []
          }
        }
      ]
    },
    {
      "cell_type": "code",
      "metadata": {
        "ExecuteTime": {
          "end_time": "2019-09-04T18:51:25.020587Z",
          "start_time": "2019-09-04T18:51:24.613971Z"
        },
        "id": "roT_3pb5IzkD",
        "colab_type": "code",
        "outputId": "7a10e1a2-6a96-49c6-9755-82fc0771d487",
        "colab": {
          "base_uri": "https://localhost:8080/",
          "height": 433
        }
      },
      "source": [
        "# I am gonna overwrite the disctionary entry created into a nested dictionary \n",
        "# the outside dictionary hosts the distributions as dictionary, \n",
        "# and each distribution dictionary contains the 100 distribution (arrays of diferent sizes)\n",
        "\n",
        "md['chisq'] = {} \n",
        "\n",
        "#and do it in a for loop. not pythonic, but easily readable\n",
        "\n",
        "for n in mysize:\n",
        "    md['chisq'][n] = np.random.chisquare(df, size = n)\n",
        "    \n",
        "# save the means for plotting later    \n",
        "\n",
        "md['chisq']['means'] = {}\n",
        "axchisq_mu_n = pl.figure(figsize=(10,6)).add_subplot(111)\n",
        "\n",
        "for nn in md['chisq']:\n",
        "    if not type(nn) == str:\n",
        "        md['chisq']['means'][nn] = md['chisq'][nn].mean()\n",
        "        #and plot it\n",
        "        axchisq_mu_n.plot(nn, md['chisq']['means'][nn], 'o')\n",
        "        axchisq_mu_n.set_xlabel('sample size', fontsize=18)\n",
        "        axchisq_mu_n.set_ylabel('sample mean', fontsize=18)\n",
        "        axchisq_mu_n.set_title('Chi squared', fontsize=18)\n",
        "        axchisq_mu_n.plot([min(mysize), max(mysize)], [df, df], 'k')\n",
        "axchisq_mu_n.text(axchisq_mu_n.get_xlim()[1] * .6, 100, \"expected mean\", \n",
        "                  va=\"bottom\", fontsize=20)"
      ],
      "execution_count": 10,
      "outputs": [
        {
          "output_type": "execute_result",
          "data": {
            "text/plain": [
              "Text(1259.3999999999999, 100, 'expected mean')"
            ]
          },
          "metadata": {
            "tags": []
          },
          "execution_count": 10
        },
        {
          "output_type": "display_data",
          "data": {
            "image/png": "[encoded data removed]",
            "text/plain": [
              "<Figure size 720x432 with 1 Axes>"
            ]
          },
          "metadata": {
            "tags": []
          }
        }
      ]
    },
    {
      "cell_type": "markdown",
      "metadata": {
        "id": "4UqcimnvIzkH",
        "colab_type": "text"
      },
      "source": [
        "### Figure 2: This figure shows how for small sample sizes, the randomness of each distribution leads to a deviation from the expected value for the mean. As sample size increases, the calculated mean is closer to the expected mean, in accordance with the Law of Large Numbers, which says that results obtained should approach the expected value when a lot of trials are performed. "
      ]
    },
    {
      "cell_type": "markdown",
      "metadata": {
        "id": "9hZJiztFIzkI",
        "colab_type": "text"
      },
      "source": [
        "# now the histogram of the mean of all samples: \n",
        "## this requires some data wrangling, since i put the data in a dictionary which is a user friendly data structure, but perhaps not the most machine friendly one\n",
        "\n",
        "a coder friendly, though not terribly pythonic way to do it is to append each mean in a list in a for loop, and then hist that. be careful: if your data size gets large this becomes a very bad idea!!"
      ]
    },
    {
      "cell_type": "code",
      "metadata": {
        "ExecuteTime": {
          "end_time": "2019-09-04T04:48:50.676579Z",
          "start_time": "2019-09-04T04:48:50.506157Z"
        },
        "id": "96oGlcl7IzkJ",
        "colab_type": "code",
        "outputId": "6171c58a-7620-4687-d292-3157b786f43e",
        "colab": {
          "base_uri": "https://localhost:8080/",
          "height": 635
        }
      },
      "source": [
        "allmeans = list(md['chisq']['means'].values())\n",
        "\n",
        "pl.figure(figsize=(10, 10))\n",
        "pl.hist(allmeans,bins=30)\n",
        "pl.xlabel('sample mean', fontsize = 18)\n",
        "pl.ylabel('N', fontsize = 18)"
      ],
      "execution_count": 11,
      "outputs": [
        {
          "output_type": "execute_result",
          "data": {
            "text/plain": [
              "Text(0, 0.5, 'N')"
            ]
          },
          "metadata": {
            "tags": []
          },
          "execution_count": 11
        },
        {
          "output_type": "display_data",
          "data": {
            "image/png": "[encoded data removed]",
            "text/plain": [
              "<Figure size 720x720 with 1 Axes>"
            ]
          },
          "metadata": {
            "tags": []
          }
        }
      ]
    },
    {
      "cell_type": "markdown",
      "metadata": {
        "id": "3ccr0QP8IzkL",
        "colab_type": "text"
      },
      "source": [
        "## Figure 3: This histogram shows the distribution of means for the 100 chi-squared distributions generated above. Not every mean is close to the expected mean of 100, which is evidence of the randomness factor when each distribution is generated."
      ]
    },
    {
      "cell_type": "markdown",
      "metadata": {
        "collapsed": true,
        "id": "oSPGHW8LIzkM",
        "colab_type": "text"
      },
      "source": [
        "# Do it for the Normal distribution\n"
      ]
    },
    {
      "cell_type": "code",
      "metadata": {
        "id": "iKoDTZ8zIzkM",
        "colab_type": "code",
        "colab": {
          "base_uri": "https://localhost:8080/",
          "height": 283
        },
        "outputId": "0ab719e0-37e9-460c-cac4-6d9407067163"
      },
      "source": [
        "distributions = ['gaus'];\n",
        "mymean=100;\n",
        "stdev=1;\n",
        "\n",
        "import numpy as np\n",
        "np.random.seed(456)\n",
        "md = {}\n",
        "md['gaus'] = np.random.normal(mymean,stdev, size=100)\n",
        "pl.hist(md['gaus'], bins = 30)\n",
        "pl.ylabel('N')\n",
        "pl.xlabel('x');"
      ],
      "execution_count": 70,
      "outputs": [
        {
          "output_type": "display_data",
          "data": {
            "image/png": "[encoded data removed]",
            "text/plain": [
              "<Figure size 432x288 with 1 Axes>"
            ]
          },
          "metadata": {
            "tags": []
          }
        }
      ]
    },
    {
      "cell_type": "code",
      "metadata": {
        "id": "veAMyBx3htO_",
        "colab_type": "code",
        "colab": {
          "base_uri": "https://localhost:8080/",
          "height": 35
        },
        "outputId": "a9a7c686-858d-4e49-ccc8-e314ebe84bc3"
      },
      "source": [
        "print (\"Normal mean: %.2f, standard deviation: %.2f\"%(md['gaus'].mean(), md['gaus'].std()))"
      ],
      "execution_count": 71,
      "outputs": [
        {
          "output_type": "stream",
          "text": [
            "Normal mean: 100.14, standard deviation: 0.92\n"
          ],
          "name": "stdout"
        }
      ]
    },
    {
      "cell_type": "code",
      "metadata": {
        "id": "teOuBtOlieEA",
        "colab_type": "code",
        "colab": {
          "base_uri": "https://localhost:8080/",
          "height": 35
        },
        "outputId": "cdd75337-2544-4035-9326-7666e7e0e47f"
      },
      "source": [
        "mysize = (2000 / (np.array(range(1, 101)))).astype(int)\n",
        "print (\"shape of the 'size' list that contains the size of each distribution\", mysize.shape)"
      ],
      "execution_count": 72,
      "outputs": [
        {
          "output_type": "stream",
          "text": [
            "shape of the 'size' list that contains the size of each distribution (100,)\n"
          ],
          "name": "stdout"
        }
      ]
    },
    {
      "cell_type": "code",
      "metadata": {
        "id": "2w5Wc068i6Bw",
        "colab_type": "code",
        "colab": {
          "base_uri": "https://localhost:8080/",
          "height": 301
        },
        "outputId": "5789f575-61a3-4dd8-f842-43b6cb3ddbf4"
      },
      "source": [
        "pl.plot(mysize, '.')\n",
        "pl.xlabel(\"index\")\n",
        "pl.ylabel(\"size of the array\")"
      ],
      "execution_count": 73,
      "outputs": [
        {
          "output_type": "execute_result",
          "data": {
            "text/plain": [
              "Text(0, 0.5, 'size of the array')"
            ]
          },
          "metadata": {
            "tags": []
          },
          "execution_count": 73
        },
        {
          "output_type": "display_data",
          "data": {
            "image/png": "[encoded data removed]",
            "text/plain": [
              "<Figure size 432x288 with 1 Axes>"
            ]
          },
          "metadata": {
            "tags": []
          }
        }
      ]
    },
    {
      "cell_type": "code",
      "metadata": {
        "id": "YDXIBPCZjL4q",
        "colab_type": "code",
        "colab": {
          "base_uri": "https://localhost:8080/",
          "height": 433
        },
        "outputId": "52693d6d-e2e3-4f38-9da3-dcb138e17a02"
      },
      "source": [
        "md['gaus'] = {} \n",
        "\n",
        "for n in mysize:\n",
        "    md['gaus'][n] = np.random.normal(mymean, size=100)\n",
        "\n",
        "md['gaus']['means'] = {}\n",
        "axnorm_mu_n = pl.figure(figsize=(10,6)).add_subplot(111)\n",
        "\n",
        "for nn in md['gaus']:\n",
        "    if not type(nn) == str:\n",
        "        md['gaus']['means'][nn] = md['gaus'][nn].mean()\n",
        "        axnorm_mu_n.plot(nn, md['gaus']['means'][nn], 'o')\n",
        "        axnorm_mu_n.set_xlabel('sample size', fontsize=18)\n",
        "        axnorm_mu_n.set_ylabel('sample mean', fontsize=18)\n",
        "        axnorm_mu_n.set_title('Normal (Gaussian)', fontsize=18)\n",
        "        axnorm_mu_n.plot([min(mysize), max(mysize)], [df, df], 'k')\n",
        "axnorm_mu_n.text(axnorm_mu_n.get_xlim()[1] * .6, 100, \"expected mean\", \n",
        "                  va=\"bottom\", fontsize=20)"
      ],
      "execution_count": 77,
      "outputs": [
        {
          "output_type": "execute_result",
          "data": {
            "text/plain": [
              "Text(1259.3999999999999, 100, 'expected mean')"
            ]
          },
          "metadata": {
            "tags": []
          },
          "execution_count": 77
        },
        {
          "output_type": "display_data",
          "data": {
            "image/png": "[encoded data removed]",
            "text/plain": [
              "<Figure size 720x432 with 1 Axes>"
            ]
          },
          "metadata": {
            "tags": []
          }
        }
      ]
    },
    {
      "cell_type": "code",
      "metadata": {
        "id": "j8kwFVQdj7h_",
        "colab_type": "code",
        "colab": {
          "base_uri": "https://localhost:8080/",
          "height": 635
        },
        "outputId": "9693ac8b-d2cc-4f28-a680-1ab398fd986e"
      },
      "source": [
        "allmeans = list(md['gaus']['means'].values())\n",
        "\n",
        "pl.figure(figsize=(10, 10))\n",
        "pl.hist(allmeans,bins=30)\n",
        "pl.xlabel('sample mean', fontsize = 18)\n",
        "pl.ylabel('N', fontsize = 18)"
      ],
      "execution_count": 50,
      "outputs": [
        {
          "output_type": "execute_result",
          "data": {
            "text/plain": [
              "Text(0, 0.5, 'N')"
            ]
          },
          "metadata": {
            "tags": []
          },
          "execution_count": 50
        },
        {
          "output_type": "display_data",
          "data": {
            "image/png": "[encoded data removed]",
            "text/plain": [
              "<Figure size 720x720 with 1 Axes>"
            ]
          },
          "metadata": {
            "tags": []
          }
        }
      ]
    },
    {
      "cell_type": "markdown",
      "metadata": {
        "collapsed": true,
        "id": "iYJEbVYWIzkO",
        "colab_type": "text"
      },
      "source": [
        "# Do it for the Poisson distribution"
      ]
    },
    {
      "cell_type": "code",
      "metadata": {
        "id": "3VC0DeJXIzkP",
        "colab_type": "code",
        "colab": {
          "base_uri": "https://localhost:8080/",
          "height": 283
        },
        "outputId": "6e98fc63-f8ad-4e72-c8d8-738bd5f7d2b1"
      },
      "source": [
        "distributions = ['pois'];\n",
        "interval =100;\n",
        "\n",
        "import numpy as np\n",
        "np.random.seed(456)\n",
        "md = {}\n",
        "md['pois'] = np.random.poisson(interval, size=100)\n",
        "pl.hist(md['pois'], bins = 30)\n",
        "pl.ylabel('N')\n",
        "pl.xlabel('x');"
      ],
      "execution_count": 79,
      "outputs": [
        {
          "output_type": "display_data",
          "data": {
            "image/png": "[encoded data removed]",
            "text/plain": [
              "<Figure size 432x288 with 1 Axes>"
            ]
          },
          "metadata": {
            "tags": []
          }
        }
      ]
    },
    {
      "cell_type": "code",
      "metadata": {
        "id": "R1h2H-VbzjdV",
        "colab_type": "code",
        "colab": {
          "base_uri": "https://localhost:8080/",
          "height": 35
        },
        "outputId": "b6ceaa09-4a57-4560-8f20-67c8df273220"
      },
      "source": [
        "print (\"Normal mean: %.2f, standard deviation: %.2f\"%(md['pois'].mean(), md['pois'].std()))"
      ],
      "execution_count": 81,
      "outputs": [
        {
          "output_type": "stream",
          "text": [
            "Normal mean: 99.90, standard deviation: 10.46\n"
          ],
          "name": "stdout"
        }
      ]
    },
    {
      "cell_type": "code",
      "metadata": {
        "id": "PTqnnVOEz5lN",
        "colab_type": "code",
        "colab": {
          "base_uri": "https://localhost:8080/",
          "height": 35
        },
        "outputId": "11586b09-fc61-4161-c4c3-adf326f859df"
      },
      "source": [
        ""
      ],
      "execution_count": 36,
      "outputs": [
        {
          "output_type": "stream",
          "text": [
            "shape of the 'size' list that contains the size of each distribution (100,)\n"
          ],
          "name": "stdout"
        }
      ]
    },
    {
      "cell_type": "code",
      "metadata": {
        "id": "-RQRwLmDz-A7",
        "colab_type": "code",
        "colab": {
          "base_uri": "https://localhost:8080/",
          "height": 301
        },
        "outputId": "2bd185e4-e06e-4013-99e9-be102bb89aa8"
      },
      "source": [
        "pl.plot(mysize, '.')\n",
        "pl.xlabel(\"index\")\n",
        "pl.ylabel(\"size of the array\")"
      ],
      "execution_count": 37,
      "outputs": [
        {
          "output_type": "execute_result",
          "data": {
            "text/plain": [
              "Text(0, 0.5, 'size of the array')"
            ]
          },
          "metadata": {
            "tags": []
          },
          "execution_count": 37
        },
        {
          "output_type": "display_data",
          "data": {
            "image/png": "[encoded data removed]",
            "text/plain": [
              "<Figure size 432x288 with 1 Axes>"
            ]
          },
          "metadata": {
            "tags": []
          }
        }
      ]
    },
    {
      "cell_type": "code",
      "metadata": {
        "id": "seFtS54D8rcX",
        "colab_type": "code",
        "colab": {
          "base_uri": "https://localhost:8080/",
          "height": 433
        },
        "outputId": "18e4a310-eba1-429b-e582-1191ad27590b"
      },
      "source": [
        "md['pois'] = {} \n",
        "\n",
        "for n in mysize:\n",
        "    md['pois'][n] = np.random.poisson(interval, size=100)\n",
        "\n",
        "md['pois']['means'] = {}\n",
        "axpois_mu_n = pl.figure(figsize=(10,6)).add_subplot(111)\n",
        "\n",
        "for nn in md['pois']:\n",
        "    if not type(nn) == str:\n",
        "        md['pois']['means'][nn] = md['pois'][nn].mean()\n",
        "        axpois_mu_n.plot(nn, md['pois']['means'][nn], 'o')\n",
        "        axpois_mu_n.set_xlabel('sample size', fontsize=18)\n",
        "        axpois_mu_n.set_ylabel('sample mean', fontsize=18)\n",
        "        axpois_mu_n.set_title('Poisson', fontsize=18)\n",
        "        axpois_mu_n.plot([min(mysize), max(mysize)], [df, df], 'k')\n",
        "axpois_mu_n.text(axnorm_mu_n.get_xlim()[1] * .6, 100, \"expected mean\", \n",
        "                  va=\"bottom\", fontsize=20)"
      ],
      "execution_count": 85,
      "outputs": [
        {
          "output_type": "execute_result",
          "data": {
            "text/plain": [
              "Text(1259.3999999999999, 100, 'expected mean')"
            ]
          },
          "metadata": {
            "tags": []
          },
          "execution_count": 85
        },
        {
          "output_type": "display_data",
          "data": {
            "image/png": "[encoded data removed]",
            "text/plain": [
              "<Figure size 720x432 with 1 Axes>"
            ]
          },
          "metadata": {
            "tags": []
          }
        }
      ]
    },
    {
      "cell_type": "markdown",
      "metadata": {
        "id": "4l90CFnOIzkS",
        "colab_type": "text"
      },
      "source": [
        "# Do it for the Binomial distribution"
      ]
    },
    {
      "cell_type": "code",
      "metadata": {
        "id": "90YHIIIIIzkS",
        "colab_type": "code",
        "colab": {
          "base_uri": "https://localhost:8080/",
          "height": 270
        },
        "outputId": "25cd065f-008d-4262-bebd-fdf92f43d1bb"
      },
      "source": [
        "distributions = ['binomial'];\n",
        "trials=100;\n",
        "\n",
        "import numpy as np\n",
        "np.random.seed(456)\n",
        "md = {}\n",
        "md['binomial'] = np.random.binomial(trials, rate =.5)\n",
        "pl.hist(md['binomial'], bins = 30)\n",
        "pl.ylabel('N')\n",
        "pl.xlabel('x');"
      ],
      "execution_count": 1,
      "outputs": [
        {
          "output_type": "error",
          "ename": "TypeError",
          "evalue": "ignored",
          "traceback": [
            "\u001b[0;31m---------------------------------------------------------------------------\u001b[0m",
            "\u001b[0;31mTypeError\u001b[0m                                 Traceback (most recent call last)",
            "\u001b[0;32m<ipython-input-1-bb88827911b7>\u001b[0m in \u001b[0;36m<module>\u001b[0;34m()\u001b[0m\n\u001b[1;32m      5\u001b[0m \u001b[0mnp\u001b[0m\u001b[0;34m.\u001b[0m\u001b[0mrandom\u001b[0m\u001b[0;34m.\u001b[0m\u001b[0mseed\u001b[0m\u001b[0;34m(\u001b[0m\u001b[0;36m456\u001b[0m\u001b[0;34m)\u001b[0m\u001b[0;34m\u001b[0m\u001b[0;34m\u001b[0m\u001b[0m\n\u001b[1;32m      6\u001b[0m \u001b[0mmd\u001b[0m \u001b[0;34m=\u001b[0m \u001b[0;34m{\u001b[0m\u001b[0;34m}\u001b[0m\u001b[0;34m\u001b[0m\u001b[0;34m\u001b[0m\u001b[0m\n\u001b[0;32m----> 7\u001b[0;31m \u001b[0mmd\u001b[0m\u001b[0;34m[\u001b[0m\u001b[0;34m'binomial'\u001b[0m\u001b[0;34m]\u001b[0m \u001b[0;34m=\u001b[0m \u001b[0mnp\u001b[0m\u001b[0;34m.\u001b[0m\u001b[0mrandom\u001b[0m\u001b[0;34m.\u001b[0m\u001b[0mbinomial\u001b[0m\u001b[0;34m(\u001b[0m\u001b[0mtrials\u001b[0m\u001b[0;34m,\u001b[0m \u001b[0mrate\u001b[0m \u001b[0;34m=\u001b[0m\u001b[0;36m.5\u001b[0m\u001b[0;34m)\u001b[0m\u001b[0;34m\u001b[0m\u001b[0;34m\u001b[0m\u001b[0m\n\u001b[0m\u001b[1;32m      8\u001b[0m \u001b[0mpl\u001b[0m\u001b[0;34m.\u001b[0m\u001b[0mhist\u001b[0m\u001b[0;34m(\u001b[0m\u001b[0mmd\u001b[0m\u001b[0;34m[\u001b[0m\u001b[0;34m'binomial'\u001b[0m\u001b[0;34m]\u001b[0m\u001b[0;34m,\u001b[0m \u001b[0mbins\u001b[0m \u001b[0;34m=\u001b[0m \u001b[0;36m30\u001b[0m\u001b[0;34m)\u001b[0m\u001b[0;34m\u001b[0m\u001b[0;34m\u001b[0m\u001b[0m\n\u001b[1;32m      9\u001b[0m \u001b[0mpl\u001b[0m\u001b[0;34m.\u001b[0m\u001b[0mylabel\u001b[0m\u001b[0;34m(\u001b[0m\u001b[0;34m'N'\u001b[0m\u001b[0;34m)\u001b[0m\u001b[0;34m\u001b[0m\u001b[0;34m\u001b[0m\u001b[0m\n",
            "\u001b[0;32mmtrand.pyx\u001b[0m in \u001b[0;36mmtrand.RandomState.binomial\u001b[0;34m()\u001b[0m\n",
            "\u001b[0;31mTypeError\u001b[0m: binomial() takes at least 2 positional arguments (1 given)"
          ]
        }
      ]
    },
    {
      "cell_type": "markdown",
      "metadata": {
        "id": "994k2huKIzkV",
        "colab_type": "text"
      },
      "source": [
        "# Do it for another distribution"
      ]
    },
    {
      "cell_type": "code",
      "metadata": {
        "id": "_PQ5VIJzIzkX",
        "colab_type": "code",
        "colab": {}
      },
      "source": [
        "##your code here..."
      ],
      "execution_count": 0,
      "outputs": []
    },
    {
      "cell_type": "markdown",
      "metadata": {
        "collapsed": true,
        "id": "yssr2IMpIzkZ",
        "colab_type": "text"
      },
      "source": [
        "# 667 students: fita  a Gaussian to the histogram of the means for each distribution"
      ]
    },
    {
      "cell_type": "markdown",
      "metadata": {
        "id": "2QQCutzgIzkb",
        "colab_type": "text"
      },
      "source": [
        "to fit a curve to data you can, for example, use scipy.optimize.curve_fit(). Your y value should be the hight of each histogram bin, which you can extract by capturing the output of pl.hist() when you plot the histogram. "
      ]
    },
    {
      "cell_type": "code",
      "metadata": {
        "ExecuteTime": {
          "end_time": "2019-09-04T18:53:15.952372Z",
          "start_time": "2019-09-04T18:53:15.806867Z"
        },
        "id": "VM4_8-_5Izkc",
        "colab_type": "code",
        "outputId": "9db36acd-ab05-4df4-f0c6-ed44e619bcec",
        "colab": {}
      },
      "source": [
        "pl.hist(allmeans,bins=30)"
      ],
      "execution_count": 0,
      "outputs": [
        {
          "output_type": "execute_result",
          "data": {
            "text/plain": [
              "(array([ 2.,  0.,  0.,  2.,  1.,  2.,  1.,  2.,  0.,  1.,  4.,  3.,  7.,\n",
              "        10.,  5.,  3.,  9.,  5.,  3.,  1.,  1.,  1.,  1.,  1.,  1.,  0.,\n",
              "         1.,  1.,  0.,  1.]),\n",
              " array([ 95.31364808,  95.65634848,  95.99904888,  96.34174927,\n",
              "         96.68444967,  97.02715007,  97.36985047,  97.71255087,\n",
              "         98.05525127,  98.39795166,  98.74065206,  99.08335246,\n",
              "         99.42605286,  99.76875326, 100.11145365, 100.45415405,\n",
              "        100.79685445, 101.13955485, 101.48225525, 101.82495565,\n",
              "        102.16765604, 102.51035644, 102.85305684, 103.19575724,\n",
              "        103.53845764, 103.88115804, 104.22385843, 104.56655883,\n",
              "        104.90925923, 105.25195963, 105.59466003]),\n",
              " <a list of 30 Patch objects>)"
            ]
          },
          "metadata": {
            "tags": []
          },
          "execution_count": 66
        },
        {
          "output_type": "display_data",
          "data": {
            "image/png": "[encoded data removed]",
            "text/plain": [
              "<Figure size 432x288 with 1 Axes>"
            ]
          },
          "metadata": {
            "tags": []
          }
        }
      ]
    },
    {
      "cell_type": "markdown",
      "metadata": {
        "id": "qI-mfxFBIzki",
        "colab_type": "text"
      },
      "source": [
        "And you can create your own Gaussian function to pass to curve_fit as this for example: "
      ]
    },
    {
      "cell_type": "code",
      "metadata": {
        "ExecuteTime": {
          "end_time": "2019-09-04T18:55:42.467341Z",
          "start_time": "2019-09-04T18:55:42.463133Z"
        },
        "id": "oiWJO3V_Izkl",
        "colab_type": "code",
        "colab": {}
      },
      "source": [
        "def gaussian(x, mu, sigma....):\n",
        "    ''' \n",
        "    REMEMBER TO WRITE A DOCSTRING THAT EXPLAINS WHAT A FUNCTION DOES EVERY TIME YOU WRITE A FUNCTION \n",
        "    https://www.python.org/dev/peps/pep-0257/\n",
        "    '''"
      ],
      "execution_count": 0,
      "outputs": []
    },
    {
      "cell_type": "markdown",
      "metadata": {
        "id": "1lF59gHtIzkq",
        "colab_type": "text"
      },
      "source": [
        "Or you can use existing functions (scipy has one, but it would be instructive for you to write it yourself!)"
      ]
    },
    {
      "cell_type": "code",
      "metadata": {
        "id": "iSsiTcCPIzkq",
        "colab_type": "code",
        "colab": {}
      },
      "source": [
        ""
      ],
      "execution_count": 0,
      "outputs": []
    }
  ]
}