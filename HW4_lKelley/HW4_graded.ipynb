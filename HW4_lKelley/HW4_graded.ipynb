{
 "cells": [
  {
   "cell_type": "markdown",
   "metadata": {
    "colab_type": "text",
    "id": "view-in-github"
   },
   "source": [
    "<a href=\"https://colab.research.google.com/github/kelleyl54/DSPS_LKelley/blob/master/HW4_lKelley/DSPS_HW3_lKelley.ipynb\" target=\"_parent\"><img src=\"https://colab.research.google.com/assets/colab-badge.svg\" alt=\"Open In Colab\"/></a>"
   ]
  },
  {
   "cell_type": "markdown",
   "metadata": {
    "colab_type": "text",
    "id": "rxa6Xa3jOdCI",
    "run_control": {
     "frozen": false,
     "read_only": false
    }
   },
   "source": [
    "prepared by federica b bianco @fedhere\n",
    "for UDel DSPS PHYS 467/667\n",
    "\n",
    "# testing the significance of Dark Matter"
   ]
  },
  {
   "cell_type": "code",
   "execution_count": 1,
   "metadata": {
    "ExecuteTime": {
     "end_time": "2019-09-16T17:54:57.244596Z",
     "start_time": "2019-09-16T17:54:57.231090Z"
    },
    "colab": {
     "base_uri": "https://localhost:8080/",
     "height": 35
    },
    "colab_type": "code",
    "id": "Ya2RaOGbOdCJ",
    "outputId": "da5d1a81-7d5f-448b-988b-1d796e10e8a2",
    "run_control": {
     "frozen": false,
     "read_only": false
    }
   },
   "outputs": [
    {
     "name": "stdout",
     "output_type": "stream",
     "text": [
      "Populating the interactive namespace from numpy and matplotlib\n"
     ]
    }
   ],
   "source": [
    "import pandas as pd\n",
    "import numpy as np\n",
    "import pylab as pl\n",
    "%pylab inline\n",
    "\n",
    "\n",
    "#package I will use for constants and units conversion \n",
    "import astropy\n",
    "\n"
   ]
  },
  {
   "cell_type": "markdown",
   "metadata": {
    "colab_type": "text",
    "id": "4qp8A2TG1Gwb",
    "run_control": {
     "frozen": false,
     "read_only": false
    }
   },
   "source": [
    "In 1970 Vera Rubin published a seminal paper: she measured the rotational speed of HII regions in several galaxies and how it changed as a function of distance to the center of the galaxy. If we believe Newtonian gravity (or GR) we expect that _once all of the mass is included_, i.e. at a radius distance from the center of the galaxy larger than the radius of the galaxy itself, the rotational speed will be proportional to $v\\propto\\frac{1}/{r}$"
   ]
  },
  {
   "cell_type": "markdown",
   "metadata": {
    "colab_type": "text",
    "id": "j-BDrNseOdCR",
    "run_control": {
     "frozen": false,
     "read_only": false
    }
   },
   "source": [
    "## Propagation of  uncertainties rules\n",
    "\n",
    "below are the basic rules for propagation of uncertainties - use [this as reference](https://github.com/fedhere/DSPS/blob/master/resources/Managing%20Errors%20and%20Uncertainty.pdf)"
   ]
  },
  {
   "cell_type": "markdown",
   "metadata": {
    "colab_type": "text",
    "id": "iCrFipBzOzqp",
    "run_control": {
     "frozen": false,
     "read_only": false
    }
   },
   "source": [
    "\n",
    "\n",
    "\n",
    "$$\n",
    "\\begin{eqnarray}\n",
    "z = x  \\pm y  ~| & ~  &dz = \\sqrt{dx^2 + dy^2} \n",
    "\\\\\n",
    "z = x * y  ~| & ~& dz = |xy|  \\sqrt{\\left(\\frac{dx}{x}\\right)^2 + \n",
    "                                \\left(\\frac{dy}{y}\\right)^2} \\\\\n",
    "z = x / y  ~| & ~& dz = \\left|\\frac{x}{y}\\right| \\sqrt{\\left(\\frac{dx}{x}\\right)^2 + \n",
    "                                                   \\left(\\frac{dy}{y}\\right)^2} \\\\\n",
    "z = x^n ~| & ~& dz = |n| ~ x^{n-1}  dx \\\\\n",
    "z = \\mathrm{c}x ~| & ~& dz = |\\mathrm{c}| ~dx \\\\\n",
    "z = f(x, y) ~| & ~& dz = \\sqrt{\\left(\\frac{\\partial f}{\\partial x}\\right)^2 dx^2 +\\left(\\frac{\\partial f}{\\partial y}\\right)^2 dy^2} \\\\\n",
    "\\end{eqnarray}\n",
    "$$\n"
   ]
  },
  {
   "cell_type": "markdown",
   "metadata": {
    "colab_type": "text",
    "id": "WcF0zlWCOdCX",
    "run_control": {
     "frozen": false,
     "read_only": false
    }
   },
   "source": [
    "# let's assume a Newtonian framework: \n",
    "the velocity of a body in orbit depends only on the gravitational field of the mass that attracts it, and we can assume that mass is concentrated in the center of mass of (the center for simplicity) the system\n",
    "\n",
    "with G the gravitational constant, $r$ the radius, and $m(r)$ the mass contained within that radius we have the orbital velocity $v$:\n"
   ]
  },
  {
   "cell_type": "markdown",
   "metadata": {
    "colab_type": "text",
    "id": "ZON0DKl5Qm2S",
    "run_control": {
     "frozen": false,
     "read_only": false
    }
   },
   "source": [
    "\n",
    "$v^2 = \\frac{G \\cdot m(r)}{r}$\n"
   ]
  },
  {
   "cell_type": "markdown",
   "metadata": {
    "colab_type": "text",
    "id": "lVfy9lJ21xMT",
    "run_control": {
     "frozen": false,
     "read_only": false
    }
   },
   "source": [
    "Derive this $v^2\\propto\\frac{1}{r}$ from Newton's law $F~=~\\frac{GMm}{r^2}$. Write each formula and describe each step. You can use latex (you really just need to know ```\\frac{}``` and ```^```) and this reference\n",
    "https://www.physicsclassroom.com/calcpad/circgrav"
   ]
  },
  {
   "cell_type": "markdown",
   "metadata": {
    "colab_type": "text",
    "id": "HEB7hQojuAQt",
    "run_control": {
     "frozen": false,
     "read_only": false
    }
   },
   "source": [
    "$F=ma=\\frac{mv^2}{r}$ For uniform circular motion\n",
    "\n",
    "$\\frac{mv^2}{r}=\\frac{GMm}{r^2}$ Newton's Law of Gravity\n",
    "\n",
    "$v^2=\\frac{Gm}{r}$\n"
   ]
  },
  {
   "cell_type": "markdown",
   "metadata": {
    "colab_type": "text",
    "id": "KQAEJtWuOdCb",
    "run_control": {
     "frozen": false,
     "read_only": false
    }
   },
   "source": [
    "## M31 rotational curve"
   ]
  },
  {
   "cell_type": "markdown",
   "metadata": {
    "ExecuteTime": {
     "end_time": "2019-08-02T01:34:15.029084Z",
     "start_time": "2019-08-02T01:34:15.026604Z"
    },
    "colab_type": "text",
    "id": "BTaXzFYeOdCc",
    "run_control": {
     "frozen": false,
     "read_only": false
    }
   },
   "source": [
    "# Galaxy Rotational Curves\n",
    "The data comes from [SOFUE 2015](http://www.ioa.s.u-tokyo.ac.jp/~sofue/htdocs/2015m31/2015-pasj-M31MW-DH.pdf)\n",
    "The data are plotted in Figure 3 and 4 for M31 and the Milky Way respectively, and hosted on [this website](http://www.ioa.s.u-tokyo.ac.jp/~sofue/htdocs/2015m31/)\n",
    "As described in the paper: \n",
    "Long and short bars represent modified standard deviations and errors, respectively\n",
    "\n",
    "#### Please read the last paragraphs of Section 2.1 of the paper to understand the meaning of these uncertainties:\n",
    "\n",
    "![figures](https://github.com/fedhere/DSPS/blob/master/HW4/figures.png?raw=1)\n",
    "\n"
   ]
  },
  {
   "cell_type": "markdown",
   "metadata": {
    "ExecuteTime": {
     "end_time": "2019-09-22T00:10:02.465470Z",
     "start_time": "2019-09-22T00:10:02.455255Z"
    },
    "colab_type": "text",
    "id": "HQGHDj-ZDhJK",
    "run_control": {
     "frozen": false,
     "read_only": false
    }
   },
   "source": [
    "\n",
    "\n",
    "![text](https://github.com/fedhere/DSPS/blob/master/HW4/text.png?raw=1)\n",
    "\n",
    "### data ingestion\n",
    "Get the data from the github repository https://github.com/fedhere/DSPS/tree/master/HW4 : there are 2 files: mw.csv and m31.csv. Start with M31, the Andromeda galaxy, Vera Rubin's original target."
   ]
  },
  {
   "cell_type": "markdown",
   "metadata": {
    "colab_type": "text",
    "id": "_iFrkUYEV1SS",
    "run_control": {
     "frozen": false,
     "read_only": false
    }
   },
   "source": [
    "Note that the data contains 2 types of uncertainties: one significantly smaller than the other. The ```dv``` uncertainty is the propagation of the uncertainty in the location of the HII line. The uncertainty called ```err``` if the full error budget:  including _all_ sources of uncertainty and not just the uncertainty in measuring the location of the line. Retain both, you will test your hypothesis with each one to see if it matters which uncertainty you choose"
   ]
  },
  {
   "cell_type": "code",
   "execution_count": 2,
   "metadata": {
    "colab": {},
    "colab_type": "code",
    "id": "PFYBlhUjt8_e",
    "run_control": {
     "frozen": false,
     "read_only": false
    }
   },
   "outputs": [],
   "source": [
    "m31=pd.read_csv(\"https://raw.githubusercontent.com/fedhere/DSPS/master/HW4/m31.csv\",header=1)\n",
    "m31.columns=['r','v','dv','err']"
   ]
  },
  {
   "cell_type": "code",
   "execution_count": 3,
   "metadata": {
    "colab": {
     "base_uri": "https://localhost:8080/",
     "height": 202
    },
    "colab_type": "code",
    "id": "yUAUVGjaDtc5",
    "outputId": "fd0f6792-2001-4cbf-e5ce-92cd4a152978"
   },
   "outputs": [
    {
     "data": {
      "text/html": [
       "<div>\n",
       "<style scoped>\n",
       "    .dataframe tbody tr th:only-of-type {\n",
       "        vertical-align: middle;\n",
       "    }\n",
       "\n",
       "    .dataframe tbody tr th {\n",
       "        vertical-align: top;\n",
       "    }\n",
       "\n",
       "    .dataframe thead th {\n",
       "        text-align: right;\n",
       "    }\n",
       "</style>\n",
       "<table border=\"1\" class=\"dataframe\">\n",
       "  <thead>\n",
       "    <tr style=\"text-align: right;\">\n",
       "      <th></th>\n",
       "      <th>r</th>\n",
       "      <th>v</th>\n",
       "      <th>dv</th>\n",
       "      <th>err</th>\n",
       "    </tr>\n",
       "  </thead>\n",
       "  <tbody>\n",
       "    <tr>\n",
       "      <td>0</td>\n",
       "      <td>0.100</td>\n",
       "      <td>183.939</td>\n",
       "      <td>0.000</td>\n",
       "      <td>0.000</td>\n",
       "    </tr>\n",
       "    <tr>\n",
       "      <td>1</td>\n",
       "      <td>0.120</td>\n",
       "      <td>190.710</td>\n",
       "      <td>10.265</td>\n",
       "      <td>12.191</td>\n",
       "    </tr>\n",
       "    <tr>\n",
       "      <td>2</td>\n",
       "      <td>0.144</td>\n",
       "      <td>204.141</td>\n",
       "      <td>22.634</td>\n",
       "      <td>21.808</td>\n",
       "    </tr>\n",
       "    <tr>\n",
       "      <td>3</td>\n",
       "      <td>0.173</td>\n",
       "      <td>207.601</td>\n",
       "      <td>4.573</td>\n",
       "      <td>4.200</td>\n",
       "    </tr>\n",
       "    <tr>\n",
       "      <td>4</td>\n",
       "      <td>0.207</td>\n",
       "      <td>210.188</td>\n",
       "      <td>3.943</td>\n",
       "      <td>3.258</td>\n",
       "    </tr>\n",
       "  </tbody>\n",
       "</table>\n",
       "</div>"
      ],
      "text/plain": [
       "       r        v      dv     err\n",
       "0  0.100  183.939   0.000   0.000\n",
       "1  0.120  190.710  10.265  12.191\n",
       "2  0.144  204.141  22.634  21.808\n",
       "3  0.173  207.601   4.573   4.200\n",
       "4  0.207  210.188   3.943   3.258"
      ]
     },
     "execution_count": 3,
     "metadata": {},
     "output_type": "execute_result"
    }
   ],
   "source": [
    "#my attempt\n",
    "m31.head()"
   ]
  },
  {
   "cell_type": "code",
   "execution_count": 4,
   "metadata": {
    "colab": {
     "base_uri": "https://localhost:8080/",
     "height": 202
    },
    "colab_type": "code",
    "id": "luL5UrsNQ1M1",
    "outputId": "d9050266-0834-4980-e32c-afcada9519d5",
    "run_control": {
     "frozen": false,
     "read_only": false
    }
   },
   "outputs": [
    {
     "data": {
      "text/html": [
       "<div>\n",
       "<style scoped>\n",
       "    .dataframe tbody tr th:only-of-type {\n",
       "        vertical-align: middle;\n",
       "    }\n",
       "\n",
       "    .dataframe tbody tr th {\n",
       "        vertical-align: top;\n",
       "    }\n",
       "\n",
       "    .dataframe thead th {\n",
       "        text-align: right;\n",
       "    }\n",
       "</style>\n",
       "<table border=\"1\" class=\"dataframe\">\n",
       "  <thead>\n",
       "    <tr style=\"text-align: right;\">\n",
       "      <th></th>\n",
       "      <th>r</th>\n",
       "      <th>v</th>\n",
       "      <th>dv</th>\n",
       "      <th>err</th>\n",
       "    </tr>\n",
       "  </thead>\n",
       "  <tbody>\n",
       "    <tr>\n",
       "      <td>0</td>\n",
       "      <td>0.100</td>\n",
       "      <td>183.939</td>\n",
       "      <td>0.000</td>\n",
       "      <td>0.000</td>\n",
       "    </tr>\n",
       "    <tr>\n",
       "      <td>1</td>\n",
       "      <td>0.120</td>\n",
       "      <td>190.710</td>\n",
       "      <td>10.265</td>\n",
       "      <td>12.191</td>\n",
       "    </tr>\n",
       "    <tr>\n",
       "      <td>2</td>\n",
       "      <td>0.144</td>\n",
       "      <td>204.141</td>\n",
       "      <td>22.634</td>\n",
       "      <td>21.808</td>\n",
       "    </tr>\n",
       "    <tr>\n",
       "      <td>3</td>\n",
       "      <td>0.173</td>\n",
       "      <td>207.601</td>\n",
       "      <td>4.573</td>\n",
       "      <td>4.200</td>\n",
       "    </tr>\n",
       "    <tr>\n",
       "      <td>4</td>\n",
       "      <td>0.207</td>\n",
       "      <td>210.188</td>\n",
       "      <td>3.943</td>\n",
       "      <td>3.258</td>\n",
       "    </tr>\n",
       "  </tbody>\n",
       "</table>\n",
       "</div>"
      ],
      "text/plain": [
       "       r        v      dv     err\n",
       "0  0.100  183.939   0.000   0.000\n",
       "1  0.120  190.710  10.265  12.191\n",
       "2  0.144  204.141  22.634  21.808\n",
       "3  0.173  207.601   4.573   4.200\n",
       "4  0.207  210.188   3.943   3.258"
      ]
     },
     "execution_count": 4,
     "metadata": {},
     "output_type": "execute_result"
    }
   ],
   "source": [
    "\n",
    "m31.head()"
   ]
  },
  {
   "cell_type": "code",
   "execution_count": 5,
   "metadata": {
    "colab": {
     "base_uri": "https://localhost:8080/",
     "height": 294
    },
    "colab_type": "code",
    "id": "nwxIuP1DDxU2",
    "outputId": "c1c5cd57-c83b-44f9-8ee5-7768c2e14a50"
   },
   "outputs": [
    {
     "data": {
      "text/html": [
       "<div>\n",
       "<style scoped>\n",
       "    .dataframe tbody tr th:only-of-type {\n",
       "        vertical-align: middle;\n",
       "    }\n",
       "\n",
       "    .dataframe tbody tr th {\n",
       "        vertical-align: top;\n",
       "    }\n",
       "\n",
       "    .dataframe thead th {\n",
       "        text-align: right;\n",
       "    }\n",
       "</style>\n",
       "<table border=\"1\" class=\"dataframe\">\n",
       "  <thead>\n",
       "    <tr style=\"text-align: right;\">\n",
       "      <th></th>\n",
       "      <th>r</th>\n",
       "      <th>v</th>\n",
       "      <th>dv</th>\n",
       "      <th>err</th>\n",
       "    </tr>\n",
       "  </thead>\n",
       "  <tbody>\n",
       "    <tr>\n",
       "      <td>count</td>\n",
       "      <td>55.000000</td>\n",
       "      <td>55.000000</td>\n",
       "      <td>55.000000</td>\n",
       "      <td>55.000000</td>\n",
       "    </tr>\n",
       "    <tr>\n",
       "      <td>mean</td>\n",
       "      <td>205.853182</td>\n",
       "      <td>226.079255</td>\n",
       "      <td>55.034818</td>\n",
       "      <td>16.165855</td>\n",
       "    </tr>\n",
       "    <tr>\n",
       "      <td>std</td>\n",
       "      <td>415.523904</td>\n",
       "      <td>42.799892</td>\n",
       "      <td>49.254792</td>\n",
       "      <td>14.876951</td>\n",
       "    </tr>\n",
       "    <tr>\n",
       "      <td>min</td>\n",
       "      <td>0.100000</td>\n",
       "      <td>121.974000</td>\n",
       "      <td>0.000000</td>\n",
       "      <td>0.000000</td>\n",
       "    </tr>\n",
       "    <tr>\n",
       "      <td>25%</td>\n",
       "      <td>1.177000</td>\n",
       "      <td>208.894500</td>\n",
       "      <td>11.945500</td>\n",
       "      <td>3.224000</td>\n",
       "    </tr>\n",
       "    <tr>\n",
       "      <td>50%</td>\n",
       "      <td>13.737000</td>\n",
       "      <td>229.124000</td>\n",
       "      <td>30.697000</td>\n",
       "      <td>12.065000</td>\n",
       "    </tr>\n",
       "    <tr>\n",
       "      <td>75%</td>\n",
       "      <td>161.675000</td>\n",
       "      <td>244.102500</td>\n",
       "      <td>99.980000</td>\n",
       "      <td>23.641000</td>\n",
       "    </tr>\n",
       "    <tr>\n",
       "      <td>max</td>\n",
       "      <td>1887.071000</td>\n",
       "      <td>414.942000</td>\n",
       "      <td>147.835000</td>\n",
       "      <td>54.110000</td>\n",
       "    </tr>\n",
       "  </tbody>\n",
       "</table>\n",
       "</div>"
      ],
      "text/plain": [
       "                 r           v          dv        err\n",
       "count    55.000000   55.000000   55.000000  55.000000\n",
       "mean    205.853182  226.079255   55.034818  16.165855\n",
       "std     415.523904   42.799892   49.254792  14.876951\n",
       "min       0.100000  121.974000    0.000000   0.000000\n",
       "25%       1.177000  208.894500   11.945500   3.224000\n",
       "50%      13.737000  229.124000   30.697000  12.065000\n",
       "75%     161.675000  244.102500   99.980000  23.641000\n",
       "max    1887.071000  414.942000  147.835000  54.110000"
      ]
     },
     "execution_count": 5,
     "metadata": {},
     "output_type": "execute_result"
    }
   ],
   "source": [
    "#my attempt\n",
    "m31.describe()"
   ]
  },
  {
   "cell_type": "code",
   "execution_count": 6,
   "metadata": {
    "ExecuteTime": {
     "end_time": "2019-08-02T01:35:26.395158Z",
     "start_time": "2019-08-02T01:35:26.373338Z"
    },
    "colab": {
     "base_uri": "https://localhost:8080/",
     "height": 294
    },
    "colab_type": "code",
    "id": "QsNRokb1OdCh",
    "outputId": "b71c6dec-6044-42a4-8a90-0222f7417005",
    "run_control": {
     "frozen": false,
     "read_only": false
    }
   },
   "outputs": [
    {
     "data": {
      "text/html": [
       "<div>\n",
       "<style scoped>\n",
       "    .dataframe tbody tr th:only-of-type {\n",
       "        vertical-align: middle;\n",
       "    }\n",
       "\n",
       "    .dataframe tbody tr th {\n",
       "        vertical-align: top;\n",
       "    }\n",
       "\n",
       "    .dataframe thead th {\n",
       "        text-align: right;\n",
       "    }\n",
       "</style>\n",
       "<table border=\"1\" class=\"dataframe\">\n",
       "  <thead>\n",
       "    <tr style=\"text-align: right;\">\n",
       "      <th></th>\n",
       "      <th>r</th>\n",
       "      <th>v</th>\n",
       "      <th>dv</th>\n",
       "      <th>err</th>\n",
       "    </tr>\n",
       "  </thead>\n",
       "  <tbody>\n",
       "    <tr>\n",
       "      <td>count</td>\n",
       "      <td>55.000000</td>\n",
       "      <td>55.000000</td>\n",
       "      <td>55.000000</td>\n",
       "      <td>55.000000</td>\n",
       "    </tr>\n",
       "    <tr>\n",
       "      <td>mean</td>\n",
       "      <td>205.853182</td>\n",
       "      <td>226.079255</td>\n",
       "      <td>55.034818</td>\n",
       "      <td>16.165855</td>\n",
       "    </tr>\n",
       "    <tr>\n",
       "      <td>std</td>\n",
       "      <td>415.523904</td>\n",
       "      <td>42.799892</td>\n",
       "      <td>49.254792</td>\n",
       "      <td>14.876951</td>\n",
       "    </tr>\n",
       "    <tr>\n",
       "      <td>min</td>\n",
       "      <td>0.100000</td>\n",
       "      <td>121.974000</td>\n",
       "      <td>0.000000</td>\n",
       "      <td>0.000000</td>\n",
       "    </tr>\n",
       "    <tr>\n",
       "      <td>25%</td>\n",
       "      <td>1.177000</td>\n",
       "      <td>208.894500</td>\n",
       "      <td>11.945500</td>\n",
       "      <td>3.224000</td>\n",
       "    </tr>\n",
       "    <tr>\n",
       "      <td>50%</td>\n",
       "      <td>13.737000</td>\n",
       "      <td>229.124000</td>\n",
       "      <td>30.697000</td>\n",
       "      <td>12.065000</td>\n",
       "    </tr>\n",
       "    <tr>\n",
       "      <td>75%</td>\n",
       "      <td>161.675000</td>\n",
       "      <td>244.102500</td>\n",
       "      <td>99.980000</td>\n",
       "      <td>23.641000</td>\n",
       "    </tr>\n",
       "    <tr>\n",
       "      <td>max</td>\n",
       "      <td>1887.071000</td>\n",
       "      <td>414.942000</td>\n",
       "      <td>147.835000</td>\n",
       "      <td>54.110000</td>\n",
       "    </tr>\n",
       "  </tbody>\n",
       "</table>\n",
       "</div>"
      ],
      "text/plain": [
       "                 r           v          dv        err\n",
       "count    55.000000   55.000000   55.000000  55.000000\n",
       "mean    205.853182  226.079255   55.034818  16.165855\n",
       "std     415.523904   42.799892   49.254792  14.876951\n",
       "min       0.100000  121.974000    0.000000   0.000000\n",
       "25%       1.177000  208.894500   11.945500   3.224000\n",
       "50%      13.737000  229.124000   30.697000  12.065000\n",
       "75%     161.675000  244.102500   99.980000  23.641000\n",
       "max    1887.071000  414.942000  147.835000  54.110000"
      ]
     },
     "execution_count": 6,
     "metadata": {},
     "output_type": "execute_result"
    }
   ],
   "source": [
    "m31.describe()"
   ]
  },
  {
   "cell_type": "markdown",
   "metadata": {
    "colab_type": "text",
    "id": "Vv0Ut6vOOdCk",
    "run_control": {
     "frozen": false,
     "read_only": false
    }
   },
   "source": [
    "from https://en.wikipedia.org/wiki/Andromeda_Galaxy get the extent of the luminous component of M31 (Andromeda). The distance of the Galaxy multiplied by the angular size will give you this information from basic trigonometry (make sure you convert the units properly, using astropy). Make sure you include the uncertainties! uncertainties in the distance will give you the uncertainty in the size\n",
    "   \n",
    " "
   ]
  },
  {
   "cell_type": "code",
   "execution_count": 7,
   "metadata": {
    "colab": {},
    "colab_type": "code",
    "id": "kvIFr6D778ri",
    "run_control": {
     "frozen": false,
     "read_only": false
    }
   },
   "outputs": [],
   "source": [
    "# 3.167 x 1 degrees\n",
    "# 778 +/- 33 kpc\n",
    "#values taken from wikipedia\n",
    "apparentSizeM31 = 3.167 #deg 3.167/2 <-------------\n",
    "distanceM31 = 778 #kpc \n",
    "distUnc = 33 #uncertainty in kpc\n"
   ]
  },
  {
   "cell_type": "markdown",
   "metadata": {},
   "source": [
    "<span style=\"color:red\">**-0.1 pt: for using diameter not radius**</span>"
   ]
  },
  {
   "cell_type": "code",
   "execution_count": 8,
   "metadata": {
    "ExecuteTime": {
     "end_time": "2019-08-02T01:35:41.413407Z",
     "start_time": "2019-08-02T01:35:41.408764Z"
    },
    "colab": {
     "base_uri": "https://localhost:8080/",
     "height": 35
    },
    "colab_type": "code",
    "id": "tzGNh98hOdCl",
    "outputId": "7edd065d-b5f5-46c4-938a-5749ff63a7ff",
    "run_control": {
     "frozen": false,
     "read_only": false
    }
   },
   "outputs": [
    {
     "name": "stdout",
     "output_type": "stream",
     "text": [
      "Angular Size of the visible component of Andromeda: 0.06 rad\n"
     ]
    }
   ],
   "source": [
    "# note : by PEP8 standards the import should be at the top, I leave it here for hyou to see that I am using astropy.units now\n",
    "from astropy import units as u\n",
    "m31angS = apparentSizeM31 * u.degree\n",
    "print(\"Angular Size of the visible component of Andromeda: {:.2f}\".format(m31angS.to(u.rad)  ))"
   ]
  },
  {
   "cell_type": "markdown",
   "metadata": {
    "colab_type": "text",
    "id": "cOw0Y4KNWTOZ",
    "run_control": {
     "frozen": false,
     "read_only": false
    }
   },
   "source": [
    "Please make sure you print a sensible number of decimal digits! you have a  number of significant digits set by the number of digit in the info you get from wikipedia"
   ]
  },
  {
   "cell_type": "markdown",
   "metadata": {
    "colab_type": "text",
    "id": "hF2wXZ988QgS",
    "run_control": {
     "frozen": false,
     "read_only": false
    }
   },
   "source": [
    "The distance, from Wikipedia, will have an uncertainty. Convert both to kiloparsecs Kpc"
   ]
  },
  {
   "cell_type": "code",
   "execution_count": 9,
   "metadata": {
    "ExecuteTime": {
     "end_time": "2019-08-02T01:35:42.257553Z",
     "start_time": "2019-08-02T01:35:42.254539Z"
    },
    "colab": {
     "base_uri": "https://localhost:8080/",
     "height": 35
    },
    "colab_type": "code",
    "id": "7-nEP6KrOdCo",
    "outputId": "8cb2effc-d4bf-47c3-fd01-19da3b62153b",
    "run_control": {
     "frozen": false,
     "read_only": false
    }
   },
   "outputs": [
    {
     "name": "stdout",
     "output_type": "stream",
     "text": [
      "778.0 kpc 33.0 kpc\n"
     ]
    }
   ],
   "source": [
    "#print(\"First measurement outside of the visible radius:\")\n",
    "#round(m31[m31.r > m31size].r.values[0], 2) * u.kpc\n",
    "\n",
    "m31dist = distanceM31 * u.kpc\n",
    "m31distun =  distUnc * u.kpc\n",
    "print (m31dist,m31distun)"
   ]
  },
  {
   "cell_type": "code",
   "execution_count": 10,
   "metadata": {
    "ExecuteTime": {
     "end_time": "2019-08-02T01:35:42.815232Z",
     "start_time": "2019-08-02T01:35:42.810316Z"
    },
    "colab": {
     "base_uri": "https://localhost:8080/",
     "height": 35
    },
    "colab_type": "code",
    "id": "0y_V9AuFOdCv",
    "outputId": "5dad9614-6ad4-4121-8630-28dbb11b03df",
    "run_control": {
     "frozen": false,
     "read_only": false
    }
   },
   "outputs": [
    {
     "name": "stdout",
     "output_type": "stream",
     "text": [
      "Size of the visible component of Andromeda:43.00 kpc +/- 1.82 kpc\n"
     ]
    }
   ],
   "source": [
    "m31size = m31dist * m31angS.to(u.arcsecond)\n",
    "m31size = m31size.value * u.kau\n",
    "m31sizeUnc = m31distun * m31angS.to(u.arcsecond)\n",
    "m31sizeUnc = m31sizeUnc.value * u.kau\n",
    "m31size = m31size.to(u.kpc)\n",
    "print(\"Size of the visible component of Andromeda:{:.2f} \".format(m31size)+\"+/- {:.2f}\".format(m31sizeUnc.to(u.kpc)))"
   ]
  },
  {
   "cell_type": "markdown",
   "metadata": {
    "colab_type": "text",
    "id": "_pTXgdTL8jv6",
    "run_control": {
     "frozen": false,
     "read_only": false
    }
   },
   "source": [
    "Print the distance like I printed the angular size. \n",
    "\n",
    "To get the physical size of the visible component of andtomeda you can use simple trigonometry: $y = r * sin(\\alpha) ~ \\sim ~ r \\alpha $ for small angles \n",
    "\n",
    "\n",
    "Print the physical size of the Andromeda galaxy (remember decimal digits, proper formatting etc etc). \n"
   ]
  },
  {
   "cell_type": "markdown",
   "metadata": {
    "colab_type": "text",
    "id": "97o52hRhOdCy",
    "run_control": {
     "frozen": false,
     "read_only": false
    }
   },
   "source": [
    "### find the first measurement  in your data table that includes all the luminous mass. \n",
    "\n",
    "What is the smallest radius in your data where the luminous mass is completely included and what is the veolcity at that radius?\n",
    "You can do it by broadcasting (see homework 3)"
   ]
  },
  {
   "cell_type": "code",
   "execution_count": 11,
   "metadata": {
    "colab": {
     "base_uri": "https://localhost:8080/",
     "height": 104
    },
    "colab_type": "code",
    "id": "_ReGCqyszKwx",
    "outputId": "bcb75488-697b-4f1d-aca1-22027d396675"
   },
   "outputs": [
    {
     "data": {
      "text/plain": [
       "r       23.738\n",
       "v      236.511\n",
       "dv      11.729\n",
       "err      1.580\n",
       "Name: 30, dtype: float64"
      ]
     },
     "execution_count": 11,
     "metadata": {},
     "output_type": "execute_result"
    }
   ],
   "source": [
    "m31.where(m31.r > m31size/2 * 1).dropna().iloc[0]"
   ]
  },
  {
   "cell_type": "markdown",
   "metadata": {
    "colab_type": "text",
    "id": "TVWiU84XOdDA",
    "run_control": {
     "frozen": false,
     "read_only": false
    }
   },
   "source": [
    "We expect the velocity to decrease as 1/r if all mass is included: the velocity at a radius twice as far as the radius that includes all the mass should be a factor 2 slower, three times as far a factor 3 slower. "
   ]
  },
  {
   "cell_type": "markdown",
   "metadata": {
    "colab_type": "text",
    "id": "b096Ax33SiXl",
    "run_control": {
     "frozen": false,
     "read_only": false
    }
   },
   "source": [
    "write a function that \n",
    "\n",
    "1. finds the smallest radius in the dataset that is at least N times the radius of the visible galaxy, \n",
    "\n",
    "2. takes as arguments:\n",
    "    - the data and \n",
    "    - N \n",
    "    - the size of the luminous component of the galaxy\n",
    " \n",
    "2. Returns the value of the radius and its uncertainty and the velocity and its uncertainty"
   ]
  },
  {
   "cell_type": "code",
   "execution_count": 12,
   "metadata": {
    "colab": {},
    "colab_type": "code",
    "id": "-syIxbEYsUdi"
   },
   "outputs": [],
   "source": [
    "#dr = 2r dv / v (dervied by S.F.)"
   ]
  },
  {
   "cell_type": "markdown",
   "metadata": {
    "colab_type": "text",
    "id": "Vsc34-eMs15a"
   },
   "source": [
    "Derving the expression for the uncertainty in r:\n",
    "\n",
    "$\\delta r = \\sqrt{((\\frac{\\delta r}{\\delta v})\\delta v)^2}$\n",
    "\n",
    "\n",
    "$r=Gmv^{-2}$\n",
    "\n",
    "\n",
    "$\\delta r= \\frac{-Gm(r)}{v^3} \\delta v$\n",
    "\n",
    "\n",
    "$m(r)=\\frac{v^2r}{G}$\n",
    "\n",
    "\n",
    "$\\delta r = |\\frac{-2G(\\frac{v^2r}{G})\\delta v}{v^3}|$\n",
    "\n",
    "\n",
    "$\\delta r = \\frac{2r\\delta v}{v}$\n",
    "\n"
   ]
  },
  {
   "cell_type": "markdown",
   "metadata": {
    "colab_type": "text",
    "id": "WaYccPaJyEGy"
   },
   "source": [
    "We derived the uncertainty in radius though the values of velocity and uncertainty in velocity using differential form. "
   ]
  },
  {
   "cell_type": "code",
   "execution_count": 13,
   "metadata": {
    "ExecuteTime": {
     "end_time": "2019-08-02T02:07:26.053511Z",
     "start_time": "2019-08-02T02:07:26.046677Z"
    },
    "colab": {
     "base_uri": "https://localhost:8080/",
     "height": 121
    },
    "colab_type": "code",
    "id": "-_O34Bb7OdC2",
    "outputId": "6c4176b3-f615-4aae-b722-3aa7639df3d6",
    "run_control": {
     "frozen": false,
     "read_only": false
    }
   },
   "outputs": [
    {
     "data": {
      "text/plain": [
       "r       70.880000\n",
       "v      218.489000\n",
       "dv     132.355000\n",
       "err     24.657000\n",
       "dr      85.874551\n",
       "Name: 36, dtype: float64"
      ]
     },
     "execution_count": 13,
     "metadata": {},
     "output_type": "execute_result"
    }
   ],
   "source": [
    "#our getradii function, which finds the lowest value greater than a multiple of the luminous radius\n",
    "#this function also includes the uncertainty in the radius using the relationship described directly above.\n",
    "def getradii(gal, gsize, n):\n",
    "  tmp = gal.where(gal.r > (gsize)/2 * n).dropna()\n",
    "  output = tmp.iloc[0]\n",
    "  output['dr'] = 2*output.r*output.dv/output.v\n",
    "  return(output)\n",
    "\n",
    "getradii(m31, m31size, 3)"
   ]
  },
  {
   "cell_type": "code",
   "execution_count": 14,
   "metadata": {
    "colab": {
     "base_uri": "https://localhost:8080/",
     "height": 121
    },
    "colab_type": "code",
    "id": "Uvy8F83YhNP8",
    "outputId": "129d7d1b-e4f2-4f07-9843-29a032548e98"
   },
   "outputs": [
    {
     "data": {
      "text/plain": [
       "r       23.738000\n",
       "v      236.511000\n",
       "dv      11.729000\n",
       "err      1.580000\n",
       "dr       2.354419\n",
       "Name: 30, dtype: float64"
      ]
     },
     "execution_count": 14,
     "metadata": {},
     "output_type": "execute_result"
    }
   ],
   "source": [
    "getradii(m31, m31size, 1.0)"
   ]
  },
  {
   "cell_type": "markdown",
   "metadata": {
    "ExecuteTime": {
     "end_time": "2019-08-01T18:13:58.231637Z",
     "start_time": "2019-08-01T18:13:58.229447Z"
    },
    "colab_type": "text",
    "id": "ogu_iquzOdC5",
    "run_control": {
     "frozen": false,
     "read_only": false
    }
   },
   "source": [
    "### data visualization"
   ]
  },
  {
   "cell_type": "markdown",
   "metadata": {
    "colab_type": "text",
    "id": "kJ6MujVJUyel",
    "run_control": {
     "frozen": false,
     "read_only": false
    }
   },
   "source": [
    "make a plot that shows\n",
    "\n",
    "1. the rotational curve of the galaxy (as a line)\n",
    "\n",
    "2. each velocity as an errorbar with error equal to err in the same color as the line in 1\n",
    "\n",
    "3. each velocity as an errorbar with error equal to dv in  the same color but a different line thickness\n",
    "\n",
    "\n",
    "4. the datapoint corresponding to N=1, 2, 3 each in a different color. \n",
    "\n",
    "5. add a legend that indicates the meaning of each color (```pl.legend()```)\n",
    "\n",
    "6. add a text that indicates the velocity and its uncertainty (dv and err) just below the largest errorbar (```pl.text()```)\n",
    "\n",
    "7. limit the x axis to the \"relevant\" portion of the data"
   ]
  },
  {
   "cell_type": "code",
   "execution_count": 15,
   "metadata": {
    "colab": {
     "base_uri": "https://localhost:8080/",
     "height": 295
    },
    "colab_type": "code",
    "id": "7X-sseRowfOX",
    "outputId": "1c0c9d1e-98d8-41c4-8747-9c2c247caf25"
   },
   "outputs": [
    {
     "data": {
      "image/png": "[encoded data removed]",
      "text/plain": [
       "<Figure size 432x288 with 1 Axes>"
      ]
     },
     "metadata": {
      "needs_background": "light"
     },
     "output_type": "display_data"
    }
   ],
   "source": [
    "#our function recreating the plot of the GRC for a given galaxy\n",
    "def plotGal(gal,rgal):\n",
    "  pl.errorbar(gal.r,gal.v,yerr=gal.dv)\n",
    "  pl.xlim((0,170))\n",
    "  pl.ylim((0,500))\n",
    "  \n",
    "  for n in [1,2,3]:\n",
    "    npoint = getradii(gal,rgal,n)\n",
    "    pl.errorbar(npoint.r,npoint.v,yerr=npoint.dv)\n",
    "    pl.text(npoint.r,npoint.v-npoint.dv-40,\"{:0.1f}\\n({:0.1f}, {:0.1f})\".\n",
    "        format(npoint.v,npoint.dv,npoint.err),\n",
    "        verticalalignment='center',horizontalalignment='center')\n",
    "    \n",
    "  for n in [1,2,3]:\n",
    "    npoint = getradii(gal,rgal,n)\n",
    "    pl.errorbar(npoint.r,npoint.v,yerr=npoint.err,color='k',elinewidth=6)\n",
    "    \n",
    "    \n",
    "  pl.legend(('v','radius','$2\\\\times radius$','$3\\\\times radius$'))\n",
    "  pl.xlabel(\"Radius (kpc)\")\n",
    "  pl.ylabel(\"Velocity (km/s)\")\n",
    "  pl.title(\"Orbital velocity about the center of the galaxy\")\n",
    "  \n",
    "  \n",
    "  \n",
    "\n",
    "\n",
    "\n",
    "\n",
    "plotGal(m31,m31size)"
   ]
  },
  {
   "cell_type": "markdown",
   "metadata": {
    "colab_type": "text",
    "id": "vVgGMQiG4xVR"
   },
   "source": [
    "**Figure 1: GRC for the Andromeda galaxy, matching figure 2 of the source material and showing the key points at the integer multiples of the radius. Orbital velocities are plotted with respect to the radius along with the error bars in these measurements, using a standard deviation for the length of the bar.**"
   ]
  },
  {
   "cell_type": "markdown",
   "metadata": {
    "colab_type": "text",
    "id": "bIbv3YrhTo0X",
    "run_control": {
     "frozen": false,
     "read_only": false
    }
   },
   "source": [
    "Write a function that for a given dataset and a given luminous radius and a given N \n",
    "  \n",
    "  1) uses the function above to find the radius at least as large as needed and the velocity at that radius, \n",
    "  \n",
    "  2) states the expected drop in rotational velocities according to Newton's law $v\\propto 1/r$\n",
    "  \n",
    "  3) calculates the ratio of radii and the ratio of velocities at N radii from the center N=1 and N=N (input, e.g. 2, 3 etc) with uncertainties, \n",
    "  \n",
    "  4) and stated whether that ratio is consistent within the uncertainties with Newton's law $v \\propto 1/r$\n",
    "  \n",
    "Your function should print \n",
    "\n",
    "     - the expected ratio based on the radii, \n",
    "     - the calculated ratio using ```dv```, and its uncertainty, - \n",
    "     - the 2-$\\sigma$ upper and lower limits of the calculated ratio\n",
    "     - whether the expected ratio is within the $2-\\sigma$ of the calculated ratio, \n",
    "  5) and the same using ```err```  instead of ```dv```"
   ]
  },
  {
   "cell_type": "code",
   "execution_count": 16,
   "metadata": {
    "ExecuteTime": {
     "end_time": "2019-08-02T02:22:18.485172Z",
     "start_time": "2019-08-02T02:22:18.477807Z"
    },
    "colab": {
     "base_uri": "https://localhost:8080/",
     "height": 1000
    },
    "colab_type": "code",
    "id": "1hhTw8N4OdDB",
    "outputId": "5d2c4411-93c0-4622-9de1-1030865b9c23",
    "run_control": {
     "frozen": false,
     "read_only": false
    }
   },
   "outputs": [
    {
     "name": "stdout",
     "output_type": "stream",
     "text": [
      "N= 2\n",
      "using dv first:\n",
      "The predicted ratio of the velocities is 0.6945, while the measured\n",
      "  velocity ratio is 1.0024. The 2-sigma range for the predicted ratio\n",
      "  ratio (according to the actual ratio) is between 0.0721 and 1.9326\n",
      "The predicted ratio does fall within the 2-sigma confidence range for the actual ratio\n",
      "\n",
      "\n",
      "using err now:\n",
      "The predicted ratio of the velocities is 0.6945, while the measured\n",
      "  velocity ratio is 1.0024. The 2-sigma range for the predicted ratio\n",
      "  ratio (according to the actual ratio) is between 0.7996 and 1.2051\n",
      "The predicted ratio does *not* fall within the 2-sigma confidence range for the actual ratio\n",
      "\n",
      "---\n",
      "\n",
      "N= 3\n",
      "using dv first:\n",
      "The predicted ratio of the velocities is 0.5787, while the measured\n",
      "  velocity ratio is 0.9238. The 2-sigma range for the predicted ratio\n",
      "  ratio (according to the actual ratio) is between -0.1992 and 2.0468\n",
      "The predicted ratio does fall within the 2-sigma confidence range for the actual ratio\n",
      "\n",
      "\n",
      "using err now:\n",
      "The predicted ratio of the velocities is 0.5787, while the measured\n",
      "  velocity ratio is 0.9238. The 2-sigma range for the predicted ratio\n",
      "  ratio (according to the actual ratio) is between 0.7149 and 1.1327\n",
      "The predicted ratio does *not* fall within the 2-sigma confidence range for the actual ratio\n",
      "\n",
      "---\n",
      "\n",
      "N= 4\n",
      "using dv first:\n",
      "The predicted ratio of the velocities is 0.4823, while the measured\n",
      "  velocity ratio is 0.9006. The 2-sigma range for the predicted ratio\n",
      "  ratio (according to the actual ratio) is between -0.2230 and 2.0242\n",
      "The predicted ratio does fall within the 2-sigma confidence range for the actual ratio\n",
      "\n",
      "\n",
      "using err now:\n",
      "The predicted ratio of the velocities is 0.4823, while the measured\n",
      "  velocity ratio is 0.9006. The 2-sigma range for the predicted ratio\n",
      "  ratio (according to the actual ratio) is between 0.6524 and 1.1488\n",
      "The predicted ratio does *not* fall within the 2-sigma confidence range for the actual ratio\n",
      "\n",
      "---\n",
      "\n",
      "N= 5\n",
      "using dv first:\n",
      "The predicted ratio of the velocities is 0.4402, while the measured\n",
      "  velocity ratio is 0.8346. The 2-sigma range for the predicted ratio\n",
      "  ratio (according to the actual ratio) is between -0.0633 and 1.7324\n",
      "The predicted ratio does fall within the 2-sigma confidence range for the actual ratio\n",
      "\n",
      "\n",
      "using err now:\n",
      "The predicted ratio of the velocities is 0.4402, while the measured\n",
      "  velocity ratio is 0.8346. The 2-sigma range for the predicted ratio\n",
      "  ratio (according to the actual ratio) is between 0.6367 and 1.0324\n",
      "The predicted ratio does *not* fall within the 2-sigma confidence range for the actual ratio\n",
      "\n",
      "---\n",
      "\n",
      "N= 6\n",
      "using dv first:\n",
      "The predicted ratio of the velocities is 0.4019, while the measured\n",
      "  velocity ratio is 0.7506. The 2-sigma range for the predicted ratio\n",
      "  ratio (according to the actual ratio) is between 0.0552 and 1.4460\n",
      "The predicted ratio does fall within the 2-sigma confidence range for the actual ratio\n",
      "\n",
      "\n",
      "using err now:\n",
      "The predicted ratio of the velocities is 0.4019, while the measured\n",
      "  velocity ratio is 0.7506. The 2-sigma range for the predicted ratio\n",
      "  ratio (according to the actual ratio) is between 0.6093 and 0.8918\n",
      "The predicted ratio does *not* fall within the 2-sigma confidence range for the actual ratio\n",
      "\n",
      "---\n",
      "\n"
     ]
    }
   ],
   "source": [
    "#performing the analysis on the actual ratio of velocities compared to the predicted ratio of the velocities\n",
    "\n",
    "def vratios(gal, gsize, n, err='dv'):\n",
    "  #choosing the multiple of the radius for our comparison\n",
    "  output = getradii(gal,gsize,n)\n",
    "  output['predict_v'] = output.r**(-0.5)\n",
    "  \n",
    "  #setting the ratio to compare to one radius\n",
    "  baseline = getradii(gal,gsize,1)\n",
    "  baseline['predict_v'] = baseline.r**(-0.5)\n",
    "  \n",
    "  #defining the velocity ratios we will use to commpare\n",
    "  data_ratio = output.v / baseline.v\n",
    "  predict_ratio = output.predict_v / baseline.predict_v\n",
    "  \n",
    "  #using the definition of uncertainty for a quotient (for 'dv')\n",
    "  d_data_ratio = data_ratio * np.sqrt( (output.dv / output.v)**2 + (baseline.dv / baseline.v)**2 )\n",
    "  \n",
    "  #finding the 2 - sigma limit\n",
    "  d_upper_lim = data_ratio + 2 * d_data_ratio\n",
    "  d_lower_lim = data_ratio - 2 * d_data_ratio\n",
    "  \n",
    "  #doing the same thing with 'err'\n",
    "  \n",
    "  err_data_ratio = data_ratio * np.sqrt((output.err / output.v)**2 + (baseline.err / baseline.v)**2)\n",
    "  err_upper_lim = data_ratio + 2 * err_data_ratio\n",
    "  err_lower_lim = data_ratio - 2 * err_data_ratio\n",
    "  \n",
    "  print(\"using dv first:\")\n",
    "  \n",
    "  \n",
    "  #printing the results and determining significance\n",
    "  \n",
    "  print(\"The predicted ratio of the velocities is {:.4f}, while the measured\\n\\\n",
    "  velocity ratio is {:.4f}. The 2-sigma range for the predicted ratio\\n\\\n",
    "  ratio (according to the actual ratio) is between {:.4f} and {:.4f}\".format(predict_ratio, data_ratio, d_lower_lim, d_upper_lim))\n",
    "  \n",
    "  if predict_ratio <= d_upper_lim and predict_ratio >= d_lower_lim:\n",
    "    print(\"The predicted ratio does fall within the 2-sigma confidence range for the actual ratio\")\n",
    "  else:\n",
    "    print(\"The predicted ratio does *not* fall within the 2-sigma confidence range for the actual ratio\")\n",
    "    \n",
    "  \n",
    "  print(\"\\n\\nusing err now:\")\n",
    "  \n",
    "  print(\"The predicted ratio of the velocities is {:.4f}, while the measured\\n\\\n",
    "  velocity ratio is {:.4f}. The 2-sigma range for the predicted ratio\\n\\\n",
    "  ratio (according to the actual ratio) is between {:.4f} and {:.4f}\".format(predict_ratio, data_ratio, err_lower_lim, err_upper_lim))\n",
    "  \n",
    "  if predict_ratio <= err_upper_lim and predict_ratio >= err_lower_lim:\n",
    "    print(\"The predicted ratio does fall within the 2-sigma confidence range for the actual ratio\")\n",
    "  else:\n",
    "    print(\"The predicted ratio does *not* fall within the 2-sigma confidence range for the actual ratio\")\n",
    "\n",
    "#looping through the multiples of the galaxy's luminous radius from 2 to 6 times. \n",
    " \n",
    "for n in range(2,7):\n",
    "  print(\"N=\",n)\n",
    "  vratios(m31,m31size,n)\n",
    "  print(\"\\n---\\n\")\n",
    "      "
   ]
  },
  {
   "cell_type": "markdown",
   "metadata": {},
   "source": [
    "<span style=\"color:red\">**-0.2 pt: should print out uncertainty**</span>\n",
    "\n",
    "<span style=\"color:red\">**-0.25 pt: check your prediction radio computation code, and only compare 1Xradius with 2Xradius and 1Xradius with 3Xradius**</span>"
   ]
  },
  {
   "cell_type": "markdown",
   "metadata": {
    "ExecuteTime": {
     "end_time": "2019-08-02T00:36:41.637045Z",
     "start_time": "2019-08-02T00:36:41.634825Z"
    },
    "colab_type": "text",
    "id": "6me5k4c1OdDY",
    "run_control": {
     "frozen": false,
     "read_only": false
    }
   },
   "source": [
    "### Discuss!"
   ]
  },
  {
   "cell_type": "markdown",
   "metadata": {
    "colab_type": "text",
    "id": "JFJVo0rGs5zB"
   },
   "source": [
    "When comparing the predicted ratios in velocity (determine by Newton's work) to the actual ratio in velocity, the group found that when using the standard deviation in velocity, the predicted ratio fell within the 2-sigma confidence range of the actual ratio for all multiples of the galaxy's radius from 2 through 6, inclusive. \n",
    "\n",
    "However, when comparing the ratios using the total error budget for the data set, the group found that the predicted ratio did not fall within the 95% confidence range for the actual ratio. Thus, there is a significant discrepancy between the radius-velocity relationship predicted by classical theories and the actual data collected through observation. \n",
    "\n",
    "Using the total error budget for this analysis seems to be the correct choice to accurately show that there is a significant difference between theory and observation. This error budget is a more sensitive value that the standard deviation in the velocity measurements.\n",
    "\n",
    "The fact that the discrepancy is statistically signficant lends itself to the theory of the existence of dark matter along with the luminous mass of the galaxy."
   ]
  },
  {
   "cell_type": "markdown",
   "metadata": {
    "colab_type": "text",
    "id": "QIHRn8UlOdDZ",
    "run_control": {
     "frozen": false,
     "read_only": false
    }
   },
   "source": [
    "## do the same for the Milky Way. If your functions were create properly you should be able to reuse them seamlessly"
   ]
  },
  {
   "cell_type": "code",
   "execution_count": 17,
   "metadata": {
    "colab": {},
    "colab_type": "code",
    "id": "NVp9cJzv-Dic",
    "run_control": {
     "frozen": false,
     "read_only": false
    }
   },
   "outputs": [],
   "source": [
    "# reading in\n",
    "mw=pd.read_csv(\"https://raw.githubusercontent.com/fedhere/DSPS/master/HW4/mw.csv\",header=1)\n",
    "mw.columns=['r','v','dv','err']"
   ]
  },
  {
   "cell_type": "code",
   "execution_count": 18,
   "metadata": {
    "colab": {
     "base_uri": "https://localhost:8080/",
     "height": 202
    },
    "colab_type": "code",
    "id": "Bpd5UbSN5Qcq",
    "outputId": "9f21aa0c-3c99-450e-d01a-df98f8424c5e"
   },
   "outputs": [
    {
     "data": {
      "text/html": [
       "<div>\n",
       "<style scoped>\n",
       "    .dataframe tbody tr th:only-of-type {\n",
       "        vertical-align: middle;\n",
       "    }\n",
       "\n",
       "    .dataframe tbody tr th {\n",
       "        vertical-align: top;\n",
       "    }\n",
       "\n",
       "    .dataframe thead th {\n",
       "        text-align: right;\n",
       "    }\n",
       "</style>\n",
       "<table border=\"1\" class=\"dataframe\">\n",
       "  <thead>\n",
       "    <tr style=\"text-align: right;\">\n",
       "      <th></th>\n",
       "      <th>r</th>\n",
       "      <th>v</th>\n",
       "      <th>dv</th>\n",
       "      <th>err</th>\n",
       "    </tr>\n",
       "  </thead>\n",
       "  <tbody>\n",
       "    <tr>\n",
       "      <td>0</td>\n",
       "      <td>0.010</td>\n",
       "      <td>119.061</td>\n",
       "      <td>41.832</td>\n",
       "      <td>32.714</td>\n",
       "    </tr>\n",
       "    <tr>\n",
       "      <td>1</td>\n",
       "      <td>0.012</td>\n",
       "      <td>115.268</td>\n",
       "      <td>35.199</td>\n",
       "      <td>17.100</td>\n",
       "    </tr>\n",
       "    <tr>\n",
       "      <td>2</td>\n",
       "      <td>0.014</td>\n",
       "      <td>117.392</td>\n",
       "      <td>35.152</td>\n",
       "      <td>14.429</td>\n",
       "    </tr>\n",
       "    <tr>\n",
       "      <td>3</td>\n",
       "      <td>0.017</td>\n",
       "      <td>118.475</td>\n",
       "      <td>35.252</td>\n",
       "      <td>14.870</td>\n",
       "    </tr>\n",
       "    <tr>\n",
       "      <td>4</td>\n",
       "      <td>0.021</td>\n",
       "      <td>110.386</td>\n",
       "      <td>33.817</td>\n",
       "      <td>14.427</td>\n",
       "    </tr>\n",
       "  </tbody>\n",
       "</table>\n",
       "</div>"
      ],
      "text/plain": [
       "       r        v      dv     err\n",
       "0  0.010  119.061  41.832  32.714\n",
       "1  0.012  115.268  35.199  17.100\n",
       "2  0.014  117.392  35.152  14.429\n",
       "3  0.017  118.475  35.252  14.870\n",
       "4  0.021  110.386  33.817  14.427"
      ]
     },
     "execution_count": 18,
     "metadata": {},
     "output_type": "execute_result"
    }
   ],
   "source": [
    "mw.head()"
   ]
  },
  {
   "cell_type": "code",
   "execution_count": 19,
   "metadata": {
    "colab": {
     "base_uri": "https://localhost:8080/",
     "height": 294
    },
    "colab_type": "code",
    "id": "Ga4I1h4R2NTg",
    "outputId": "79894be3-1d47-42b4-de48-b8e963ec5545"
   },
   "outputs": [
    {
     "data": {
      "text/html": [
       "<div>\n",
       "<style scoped>\n",
       "    .dataframe tbody tr th:only-of-type {\n",
       "        vertical-align: middle;\n",
       "    }\n",
       "\n",
       "    .dataframe tbody tr th {\n",
       "        vertical-align: top;\n",
       "    }\n",
       "\n",
       "    .dataframe thead th {\n",
       "        text-align: right;\n",
       "    }\n",
       "</style>\n",
       "<table border=\"1\" class=\"dataframe\">\n",
       "  <thead>\n",
       "    <tr style=\"text-align: right;\">\n",
       "      <th></th>\n",
       "      <th>r</th>\n",
       "      <th>v</th>\n",
       "      <th>dv</th>\n",
       "      <th>err</th>\n",
       "    </tr>\n",
       "  </thead>\n",
       "  <tbody>\n",
       "    <tr>\n",
       "      <td>count</td>\n",
       "      <td>64.000000</td>\n",
       "      <td>64.000000</td>\n",
       "      <td>64.000000</td>\n",
       "      <td>64.000000</td>\n",
       "    </tr>\n",
       "    <tr>\n",
       "      <td>mean</td>\n",
       "      <td>142.281500</td>\n",
       "      <td>187.101219</td>\n",
       "      <td>48.249063</td>\n",
       "      <td>19.003297</td>\n",
       "    </tr>\n",
       "    <tr>\n",
       "      <td>std</td>\n",
       "      <td>348.144773</td>\n",
       "      <td>52.161901</td>\n",
       "      <td>41.255286</td>\n",
       "      <td>23.513466</td>\n",
       "    </tr>\n",
       "    <tr>\n",
       "      <td>min</td>\n",
       "      <td>0.010000</td>\n",
       "      <td>93.042000</td>\n",
       "      <td>3.370000</td>\n",
       "      <td>0.868000</td>\n",
       "    </tr>\n",
       "    <tr>\n",
       "      <td>25%</td>\n",
       "      <td>0.177250</td>\n",
       "      <td>138.676250</td>\n",
       "      <td>12.585500</td>\n",
       "      <td>2.709750</td>\n",
       "    </tr>\n",
       "    <tr>\n",
       "      <td>50%</td>\n",
       "      <td>3.133500</td>\n",
       "      <td>204.576000</td>\n",
       "      <td>35.288500</td>\n",
       "      <td>13.923000</td>\n",
       "    </tr>\n",
       "    <tr>\n",
       "      <td>75%</td>\n",
       "      <td>55.298250</td>\n",
       "      <td>235.920500</td>\n",
       "      <td>68.412750</td>\n",
       "      <td>24.791250</td>\n",
       "    </tr>\n",
       "    <tr>\n",
       "      <td>max</td>\n",
       "      <td>1682.532000</td>\n",
       "      <td>255.300000</td>\n",
       "      <td>165.096000</td>\n",
       "      <td>110.484000</td>\n",
       "    </tr>\n",
       "  </tbody>\n",
       "</table>\n",
       "</div>"
      ],
      "text/plain": [
       "                 r           v          dv         err\n",
       "count    64.000000   64.000000   64.000000   64.000000\n",
       "mean    142.281500  187.101219   48.249063   19.003297\n",
       "std     348.144773   52.161901   41.255286   23.513466\n",
       "min       0.010000   93.042000    3.370000    0.868000\n",
       "25%       0.177250  138.676250   12.585500    2.709750\n",
       "50%       3.133500  204.576000   35.288500   13.923000\n",
       "75%      55.298250  235.920500   68.412750   24.791250\n",
       "max    1682.532000  255.300000  165.096000  110.484000"
      ]
     },
     "execution_count": 19,
     "metadata": {},
     "output_type": "execute_result"
    }
   ],
   "source": [
    "mw.describe()"
   ]
  },
  {
   "cell_type": "code",
   "execution_count": 20,
   "metadata": {
    "colab": {},
    "colab_type": "code",
    "id": "jQZpTZZq2XUO"
   },
   "outputs": [],
   "source": [
    "#average value of the diameter of the Milky Way (taken from wikipedia)\n",
    "mwsize = 53.5 * u.kpc"
   ]
  },
  {
   "cell_type": "code",
   "execution_count": 21,
   "metadata": {
    "colab": {
     "base_uri": "https://localhost:8080/",
     "height": 295
    },
    "colab_type": "code",
    "id": "cKGKvsr7tqDP",
    "outputId": "5d6dd1c0-bd6d-4df9-9ca6-8b4311dd26fb"
   },
   "outputs": [
    {
     "data": {
      "image/png": "[encoded data removed]",
      "text/plain": [
       "<Figure size 432x288 with 1 Axes>"
      ]
     },
     "metadata": {
      "needs_background": "light"
     },
     "output_type": "display_data"
    }
   ],
   "source": [
    "plotGal(mw,mwsize)"
   ]
  },
  {
   "cell_type": "markdown",
   "metadata": {
    "colab_type": "text",
    "id": "C2T8XFbFuEPW"
   },
   "source": [
    "**Figure 2: GRC for the Milky Way Galaxy, showing the key points at the first three integer multiples of the radius. Orbital velocities are plotted with respect to the radius along with the error bars in these measurements, using a standard deviation for the length of the bar.**"
   ]
  },
  {
   "cell_type": "code",
   "execution_count": 22,
   "metadata": {
    "colab": {
     "base_uri": "https://localhost:8080/",
     "height": 1000
    },
    "colab_type": "code",
    "id": "YKrvdlaQtcLF",
    "outputId": "fb7b7fae-759a-4bc3-8799-190903d89631"
   },
   "outputs": [
    {
     "name": "stdout",
     "output_type": "stream",
     "text": [
      "N= 2\n",
      "using dv first:\n",
      "The predicted ratio of the velocities is 0.6944, while the measured\n",
      "  velocity ratio is 0.7411. The 2-sigma range for the predicted ratio\n",
      "  ratio (according to the actual ratio) is between 0.1355 and 1.3467\n",
      "The predicted ratio does fall within the 2-sigma confidence range for the actual ratio\n",
      "\n",
      "\n",
      "using err now:\n",
      "The predicted ratio of the velocities is 0.6944, while the measured\n",
      "  velocity ratio is 0.7411. The 2-sigma range for the predicted ratio\n",
      "  ratio (according to the actual ratio) is between 0.5551 and 0.9271\n",
      "The predicted ratio does fall within the 2-sigma confidence range for the actual ratio\n",
      "\n",
      "---\n",
      "\n",
      "N= 3\n",
      "using dv first:\n",
      "The predicted ratio of the velocities is 0.5787, while the measured\n",
      "  velocity ratio is 0.7482. The 2-sigma range for the predicted ratio\n",
      "  ratio (according to the actual ratio) is between 0.0487 and 1.4477\n",
      "The predicted ratio does fall within the 2-sigma confidence range for the actual ratio\n",
      "\n",
      "\n",
      "using err now:\n",
      "The predicted ratio of the velocities is 0.5787, while the measured\n",
      "  velocity ratio is 0.7482. The 2-sigma range for the predicted ratio\n",
      "  ratio (according to the actual ratio) is between 0.5321 and 0.9643\n",
      "The predicted ratio does fall within the 2-sigma confidence range for the actual ratio\n",
      "\n",
      "---\n",
      "\n",
      "N= 4\n",
      "using dv first:\n",
      "The predicted ratio of the velocities is 0.5283, while the measured\n",
      "  velocity ratio is 0.6472. The 2-sigma range for the predicted ratio\n",
      "  ratio (according to the actual ratio) is between -0.1113 and 1.4058\n",
      "The predicted ratio does fall within the 2-sigma confidence range for the actual ratio\n",
      "\n",
      "\n",
      "using err now:\n",
      "The predicted ratio of the velocities is 0.5283, while the measured\n",
      "  velocity ratio is 0.6472. The 2-sigma range for the predicted ratio\n",
      "  ratio (according to the actual ratio) is between 0.3852 and 0.9092\n",
      "The predicted ratio does fall within the 2-sigma confidence range for the actual ratio\n",
      "\n",
      "---\n",
      "\n",
      "N= 5\n",
      "using dv first:\n",
      "The predicted ratio of the velocities is 0.4402, while the measured\n",
      "  velocity ratio is 0.4422. The 2-sigma range for the predicted ratio\n",
      "  ratio (according to the actual ratio) is between -0.4344 and 1.3189\n",
      "The predicted ratio does fall within the 2-sigma confidence range for the actual ratio\n",
      "\n",
      "\n",
      "using err now:\n",
      "The predicted ratio of the velocities is 0.4402, while the measured\n",
      "  velocity ratio is 0.4422. The 2-sigma range for the predicted ratio\n",
      "  ratio (according to the actual ratio) is between -0.0399 and 0.9244\n",
      "The predicted ratio does fall within the 2-sigma confidence range for the actual ratio\n",
      "\n",
      "---\n",
      "\n",
      "N= 6\n",
      "using dv first:\n",
      "The predicted ratio of the velocities is 0.4019, while the measured\n",
      "  velocity ratio is 0.5564. The 2-sigma range for the predicted ratio\n",
      "  ratio (according to the actual ratio) is between -0.8615 and 1.9744\n",
      "The predicted ratio does fall within the 2-sigma confidence range for the actual ratio\n",
      "\n",
      "\n",
      "using err now:\n",
      "The predicted ratio of the velocities is 0.4019, while the measured\n",
      "  velocity ratio is 0.5564. The 2-sigma range for the predicted ratio\n",
      "  ratio (according to the actual ratio) is between -0.3470 and 1.4599\n",
      "The predicted ratio does fall within the 2-sigma confidence range for the actual ratio\n",
      "\n",
      "---\n",
      "\n"
     ]
    }
   ],
   "source": [
    "    \n",
    "for n in range(2,7):\n",
    "  print(\"N=\",n)\n",
    "  vratios(mw,mwsize,n)\n",
    "  print(\"\\n---\\n\")"
   ]
  },
  {
   "cell_type": "markdown",
   "metadata": {
    "colab_type": "text",
    "id": "dFOQ_Trfy8o8"
   },
   "source": [
    "For the Milky Way galaxy, there was no statistical significance found between the ratio of the predicted velocities and the ratio of the actual velocities, regardless of whether dv or err was used at any multiple of the radius of the luminous matter.\n",
    "\n",
    "A possible explanation for this lack of signficance compared to Andromeda is that the errors for the Milky Way measurements are much larger due to all observations occurring inside the galaxy. Thus, it is much harder to get accurate readings for these measurements due to the presence of matter interior to the galaxy inhibiting these measurements. It is also possible that this different result was caused by the distance used for the diameter of the Milky Way, which was a topic of discussion among our group."
   ]
  }
 ],
 "metadata": {
  "colab": {
   "collapsed_sections": [],
   "include_colab_link": true,
   "name": "HW4_lKelley.ipynb",
   "provenance": []
  },
  "kernelspec": {
   "display_name": "Python 3",
   "language": "python",
   "name": "python3"
  },
  "language_info": {
   "codemirror_mode": {
    "name": "ipython",
    "version": 3
   },
   "file_extension": ".py",
   "mimetype": "text/x-python",
   "name": "python",
   "nbconvert_exporter": "python",
   "pygments_lexer": "ipython3",
   "version": "3.6.8"
  },
  "nbTranslate": {
   "displayLangs": [
    "*"
   ],
   "hotkey": "alt-t",
   "langInMainMenu": true,
   "sourceLang": "en",
   "targetLang": "fr",
   "useGoogleTranslate": true
  },
  "toc": {
   "base_numbering": 1,
   "colors": {
    "hover_highlight": "#DAA520",
    "running_highlight": "#FF0000",
    "selected_highlight": "#FFD700"
   },
   "moveMenuLeft": true,
   "nav_menu": {},
   "navigate_menu": true,
   "number_sections": true,
   "sideBar": true,
   "skip_h1_title": false,
   "threshold": 4,
   "title_cell": "Table of Contents",
   "title_sidebar": "Contents",
   "toc_cell": false,
   "toc_position": {
    "height": "calc(100% - 180px)",
    "left": "10px",
    "top": "150px",
    "width": "165px"
   },
   "toc_section_display": true,
   "toc_window_display": true
  }
 },
 "nbformat": 4,
 "nbformat_minor": 1
}
