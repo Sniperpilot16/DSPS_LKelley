{
  "nbformat": 4,
  "nbformat_minor": 0,
  "metadata": {
    "colab": {
      "name": "Sept18Lab_lKelley.ipynb",
      "provenance": [],
      "collapsed_sections": [],
      "include_colab_link": true
    },
    "kernelspec": {
      "name": "python3",
      "display_name": "Python 3"
    }
  },
  "cells": [
    {
      "cell_type": "markdown",
      "metadata": {
        "id": "view-in-github",
        "colab_type": "text"
      },
      "source": [
        "<a href=\"https://colab.research.google.com/github/kelleyl54/DSPS_LKelley/blob/master/HW4_lKelley/Sept18Lab_lKelley.ipynb\" target=\"_parent\"><img src=\"https://colab.research.google.com/assets/colab-badge.svg\" alt=\"Open In Colab\"/></a>"
      ]
    },
    {
      "cell_type": "code",
      "metadata": {
        "id": "etpE1F7Y-349",
        "colab_type": "code",
        "outputId": "e374b81d-025a-4c23-b999-b9f0813a8919",
        "colab": {
          "base_uri": "https://localhost:8080/",
          "height": 35
        }
      },
      "source": [
        "import numpy as np\n",
        "import pylab as pl\n",
        "%pylab inline"
      ],
      "execution_count": 0,
      "outputs": [
        {
          "output_type": "stream",
          "text": [
            "Populating the interactive namespace from numpy and matplotlib\n"
          ],
          "name": "stdout"
        }
      ]
    },
    {
      "cell_type": "code",
      "metadata": {
        "id": "sdKL0Akw-8lb",
        "colab_type": "code",
        "colab": {}
      },
      "source": [
        "#creating the frame for the simulation\n",
        "def square(side):\n",
        "  ax=pl.figure(figsize(5,5)).add_subplot(1,1,1)\n",
        "  pl.scatter(-side,-side)\n",
        "  pl.scatter(-side,side)\n",
        "  pl.scatter(side,-side)\n",
        "  pl.scatter(side,side)\n",
        "  pl.plot([-side,-side],[-side,side])\n",
        "  pl.plot([side,-side],[-side,-side])\n",
        "  pl.plot([side,side],[side,-side])\n",
        "  pl.plot([-side,side],[side,side])\n",
        "  return ax"
      ],
      "execution_count": 0,
      "outputs": []
    },
    {
      "cell_type": "code",
      "metadata": {
        "id": "3G5_E1VUCfhE",
        "colab_type": "code",
        "outputId": "92b7bbd5-ebfb-4c7d-a36e-92024bd69725",
        "colab": {
          "base_uri": "https://localhost:8080/",
          "height": 52
        }
      },
      "source": [
        "#useful to work with the units\n",
        "!pip install astropy"
      ],
      "execution_count": 0,
      "outputs": [
        {
          "output_type": "stream",
          "text": [
            "Requirement already satisfied: astropy in /usr/local/lib/python3.6/dist-packages (3.0.5)\n",
            "Requirement already satisfied: numpy>=1.10.0 in /usr/local/lib/python3.6/dist-packages (from astropy) (1.16.5)\n"
          ],
          "name": "stdout"
        }
      ]
    },
    {
      "cell_type": "code",
      "metadata": {
        "id": "L-m9Lc0zAE0H",
        "colab_type": "code",
        "outputId": "811eb4f6-40cb-4439-d52a-9d2cd463bde7",
        "colab": {
          "base_uri": "https://localhost:8080/",
          "height": 269
        }
      },
      "source": [
        "from astropy import units as u\n",
        "\n",
        "#making the circle which will be the parameter for testing the value of pi\n",
        "def circle(radius,ax):\n",
        "  angle = np.arange(0,360,0.1)\n",
        "  angle *= u.degree\n",
        "  x=radius * np.cos(angle.to(u.rad))\n",
        "  y=radius * np.sin(angle.to(u.rad))\n",
        "  #print('x: ',x)\n",
        "  #print('y: ',y)\n",
        "  \n",
        "  ax.plot(x,y)\n",
        "\n",
        "ax = plt.figure().add_subplot(1,1,1)"
      ],
      "execution_count": 0,
      "outputs": [
        {
          "output_type": "display_data",
          "data": {
            "image/png": "[encoded data removed]",
            "text/plain": [
              "<Figure size 432x288 with 1 Axes>"
            ]
          },
          "metadata": {
            "tags": []
          }
        }
      ]
    },
    {
      "cell_type": "code",
      "metadata": {
        "id": "aR057sSkB55H",
        "colab_type": "code",
        "outputId": "2b131972-14f6-43da-a2b6-7d52d0225fde",
        "colab": {
          "base_uri": "https://localhost:8080/",
          "height": 358
        }
      },
      "source": [
        "#creating a circle in the frame, and populate with a given amount of random points from the same seed\n",
        "axis = square(1)\n",
        "circle(1, axis)\n",
        "np.random.seed(300)\n",
        "numx = 2 * np.random.rand(10000) - 1\n",
        "numy= 2 * np.random.rand(10000) - 1\n",
        "\n",
        "#putting those points on the plot\n",
        "axis.scatter(numx, numy)\n",
        "\n",
        "#the distance of each point from the origin of the circle\n",
        "r= np.sqrt((numx **2) + numy**2)\n",
        "#print(r)\n",
        "\n",
        "#when the length of the point is less than 1, the radius of the circle\n",
        "#that point is included in the circle\n",
        "r_in = r[ r < 1]\n",
        "\n",
        "print(len(r_in))\n",
        "\n",
        "#4 times the ratio of points in the circle to total amount of points gives an approximation\n",
        "#for pi when the amount of points is sufficiently large\n",
        "print((4*len(r_in)/10000))"
      ],
      "execution_count": 0,
      "outputs": [
        {
          "output_type": "stream",
          "text": [
            "7840\n",
            "3.136\n"
          ],
          "name": "stdout"
        },
        {
          "output_type": "display_data",
          "data": {
            "image/png": "[encoded data removed]",
            "text/plain": [
              "<Figure size 360x360 with 1 Axes>"
            ]
          },
          "metadata": {
            "tags": []
          }
        }
      ]
    },
    {
      "cell_type": "markdown",
      "metadata": {
        "id": "hXvo-7OnfDhx",
        "colab_type": "text"
      },
      "source": [
        "As shown above, when a sample size of 10000 points is used, the value for pi is approximated to roughly two decimal places (3.136 compared to 3.141). A larger number of points would be able to give a better approximation of the value of pi. This has been a simple example of using a Monte Carlo Method to obtain a desired result."
      ]
    }
  ]
}